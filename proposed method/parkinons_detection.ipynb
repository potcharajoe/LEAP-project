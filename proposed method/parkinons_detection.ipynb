{
 "cells": [
  {
   "cell_type": "code",
   "execution_count": 1,
   "metadata": {},
   "outputs": [],
   "source": [
    "import pandas as pd\n",
    "import numpy as np\n",
    "from tqdm import tqdm\n",
    "import matplotlib.pyplot as plt\n",
    "from collections import defaultdict\n",
    "\n",
    "from model import ParkinsonsLSTM, train, eval\n",
    "from sklearn.model_selection import StratifiedKFold\n",
    "import torch\n",
    "import torch.nn as nn\n",
    "import torch.optim as optim\n",
    "from torch.utils.data import TensorDataset, DataLoader\n",
    "from torch.optim.lr_scheduler import StepLR\n",
    "\n",
    "tqdm.pandas()\n",
    "\n",
    "seed = 42\n",
    "torch.manual_seed(seed)\n",
    "np.random.seed(seed)"
   ]
  },
  {
   "attachments": {},
   "cell_type": "markdown",
   "metadata": {},
   "source": [
    "load parsed data"
   ]
  },
  {
   "cell_type": "code",
   "execution_count": 2,
   "metadata": {},
   "outputs": [],
   "source": [
    "df = pd.read_csv('keystroke_data.csv', low_memory=False)"
   ]
  },
  {
   "cell_type": "code",
   "execution_count": 3,
   "metadata": {},
   "outputs": [
    {
     "data": {
      "text/plain": [
       "parkinsons  tremors\n",
       "False       False      52\n",
       "            True        3\n",
       "True        False      65\n",
       "            True       97\n",
       "Name: userkey, dtype: int64"
      ]
     },
     "execution_count": 3,
     "metadata": {},
     "output_type": "execute_result"
    }
   ],
   "source": [
    "df.groupby(['parkinsons', 'tremors']).userkey.nunique()"
   ]
  },
  {
   "attachments": {},
   "cell_type": "markdown",
   "metadata": {},
   "source": [
    "define splits of 100 keystrokes and exclude users with less than target"
   ]
  },
  {
   "cell_type": "code",
   "execution_count": 4,
   "metadata": {},
   "outputs": [],
   "source": [
    "target_length = 100\n",
    "df['split'] = df.groupby('userkey').cumcount() // target_length\n",
    "\n",
    "df = df.groupby('userkey').filter(lambda group: len(group) >= target_length).reset_index(drop=True)"
   ]
  },
  {
   "attachments": {},
   "cell_type": "markdown",
   "metadata": {},
   "source": [
    "add features. 1 lag to indicate the next keytap info and rolling mean and std with 3 window.\n",
    "\n",
    "missing values are imputed with forward and backward fill"
   ]
  },
  {
   "cell_type": "code",
   "execution_count": 5,
   "metadata": {},
   "outputs": [],
   "source": [
    "def add_features(df, lag_value=1, rolling_window=3):\n",
    "    main_columns = ['hold_time', 'latency_time', 'flight_time']\n",
    "    group_columns = ['userkey', 'split']\n",
    "    for col in main_columns:\n",
    "        for i in range(1, lag_value + 1):\n",
    "            col_name = f'{col}_lag_{i}'\n",
    "            df[col_name] = df.groupby(group_columns)[col].shift(-i)\n",
    "            df[col_name] = df[col_name].fillna(method='ffill')\n",
    "        df[f'{col}_rolling_mean'] = df.groupby(group_columns)[col].rolling(window=rolling_window).mean().reset_index( drop=True)\n",
    "        df[f'{col}_rolling_std'] = df.groupby(group_columns)[col].rolling(window=rolling_window).std().reset_index( drop=True)\n",
    "\n",
    "    return df\n",
    "\n",
    "df = add_features(df).fillna(method='bfill').dropna()"
   ]
  },
  {
   "attachments": {},
   "cell_type": "markdown",
   "metadata": {},
   "source": [
    "one hot encoding featuers for the hand and direction features"
   ]
  },
  {
   "cell_type": "code",
   "execution_count": 6,
   "metadata": {},
   "outputs": [
    {
     "data": {
      "text/html": [
       "<div>\n",
       "<style scoped>\n",
       "    .dataframe tbody tr th:only-of-type {\n",
       "        vertical-align: middle;\n",
       "    }\n",
       "\n",
       "    .dataframe tbody tr th {\n",
       "        vertical-align: top;\n",
       "    }\n",
       "\n",
       "    .dataframe thead th {\n",
       "        text-align: right;\n",
       "    }\n",
       "</style>\n",
       "<table border=\"1\" class=\"dataframe\">\n",
       "  <thead>\n",
       "    <tr style=\"text-align: right;\">\n",
       "      <th></th>\n",
       "      <th>userkey</th>\n",
       "      <th>parkinsons</th>\n",
       "      <th>hold_time</th>\n",
       "      <th>latency_time</th>\n",
       "      <th>flight_time</th>\n",
       "      <th>tremors</th>\n",
       "      <th>on_meds</th>\n",
       "      <th>split</th>\n",
       "      <th>hold_time_lag_1</th>\n",
       "      <th>hold_time_rolling_mean</th>\n",
       "      <th>...</th>\n",
       "      <th>LS</th>\n",
       "      <th>RL</th>\n",
       "      <th>RR</th>\n",
       "      <th>RS</th>\n",
       "      <th>SL</th>\n",
       "      <th>SR</th>\n",
       "      <th>SS</th>\n",
       "      <th>L</th>\n",
       "      <th>R</th>\n",
       "      <th>S</th>\n",
       "    </tr>\n",
       "  </thead>\n",
       "  <tbody>\n",
       "    <tr>\n",
       "      <th>0</th>\n",
       "      <td>0</td>\n",
       "      <td>True</td>\n",
       "      <td>0.206420</td>\n",
       "      <td>0.292152</td>\n",
       "      <td>0.194660</td>\n",
       "      <td>True</td>\n",
       "      <td>True</td>\n",
       "      <td>0</td>\n",
       "      <td>0.174523</td>\n",
       "      <td>0.179873</td>\n",
       "      <td>...</td>\n",
       "      <td>0</td>\n",
       "      <td>0</td>\n",
       "      <td>0</td>\n",
       "      <td>0</td>\n",
       "      <td>0</td>\n",
       "      <td>0</td>\n",
       "      <td>0</td>\n",
       "      <td>1</td>\n",
       "      <td>0</td>\n",
       "      <td>0</td>\n",
       "    </tr>\n",
       "    <tr>\n",
       "      <th>1</th>\n",
       "      <td>0</td>\n",
       "      <td>True</td>\n",
       "      <td>0.174523</td>\n",
       "      <td>0.546376</td>\n",
       "      <td>0.449235</td>\n",
       "      <td>True</td>\n",
       "      <td>True</td>\n",
       "      <td>0</td>\n",
       "      <td>0.158675</td>\n",
       "      <td>0.179873</td>\n",
       "      <td>...</td>\n",
       "      <td>0</td>\n",
       "      <td>0</td>\n",
       "      <td>0</td>\n",
       "      <td>0</td>\n",
       "      <td>0</td>\n",
       "      <td>0</td>\n",
       "      <td>0</td>\n",
       "      <td>1</td>\n",
       "      <td>0</td>\n",
       "      <td>0</td>\n",
       "    </tr>\n",
       "    <tr>\n",
       "      <th>2</th>\n",
       "      <td>0</td>\n",
       "      <td>True</td>\n",
       "      <td>0.158675</td>\n",
       "      <td>0.262736</td>\n",
       "      <td>0.155427</td>\n",
       "      <td>True</td>\n",
       "      <td>True</td>\n",
       "      <td>0</td>\n",
       "      <td>0.126981</td>\n",
       "      <td>0.179873</td>\n",
       "      <td>...</td>\n",
       "      <td>0</td>\n",
       "      <td>0</td>\n",
       "      <td>0</td>\n",
       "      <td>0</td>\n",
       "      <td>0</td>\n",
       "      <td>0</td>\n",
       "      <td>0</td>\n",
       "      <td>1</td>\n",
       "      <td>0</td>\n",
       "      <td>0</td>\n",
       "    </tr>\n",
       "    <tr>\n",
       "      <th>3</th>\n",
       "      <td>0</td>\n",
       "      <td>True</td>\n",
       "      <td>0.126981</td>\n",
       "      <td>0.448617</td>\n",
       "      <td>0.351341</td>\n",
       "      <td>True</td>\n",
       "      <td>True</td>\n",
       "      <td>0</td>\n",
       "      <td>0.253962</td>\n",
       "      <td>0.153393</td>\n",
       "      <td>...</td>\n",
       "      <td>0</td>\n",
       "      <td>0</td>\n",
       "      <td>0</td>\n",
       "      <td>0</td>\n",
       "      <td>0</td>\n",
       "      <td>0</td>\n",
       "      <td>0</td>\n",
       "      <td>1</td>\n",
       "      <td>0</td>\n",
       "      <td>0</td>\n",
       "    </tr>\n",
       "    <tr>\n",
       "      <th>4</th>\n",
       "      <td>0</td>\n",
       "      <td>True</td>\n",
       "      <td>0.253962</td>\n",
       "      <td>0.233446</td>\n",
       "      <td>0.116320</td>\n",
       "      <td>True</td>\n",
       "      <td>True</td>\n",
       "      <td>0</td>\n",
       "      <td>0.158675</td>\n",
       "      <td>0.179873</td>\n",
       "      <td>...</td>\n",
       "      <td>1</td>\n",
       "      <td>0</td>\n",
       "      <td>0</td>\n",
       "      <td>0</td>\n",
       "      <td>0</td>\n",
       "      <td>0</td>\n",
       "      <td>0</td>\n",
       "      <td>0</td>\n",
       "      <td>0</td>\n",
       "      <td>1</td>\n",
       "    </tr>\n",
       "  </tbody>\n",
       "</table>\n",
       "<p>5 rows × 29 columns</p>\n",
       "</div>"
      ],
      "text/plain": [
       "   userkey  parkinsons  hold_time  latency_time  flight_time  tremors  \\\n",
       "0        0        True   0.206420      0.292152     0.194660     True   \n",
       "1        0        True   0.174523      0.546376     0.449235     True   \n",
       "2        0        True   0.158675      0.262736     0.155427     True   \n",
       "3        0        True   0.126981      0.448617     0.351341     True   \n",
       "4        0        True   0.253962      0.233446     0.116320     True   \n",
       "\n",
       "   on_meds  split  hold_time_lag_1  hold_time_rolling_mean  ...  LS  RL  RR  \\\n",
       "0     True      0         0.174523                0.179873  ...   0   0   0   \n",
       "1     True      0         0.158675                0.179873  ...   0   0   0   \n",
       "2     True      0         0.126981                0.179873  ...   0   0   0   \n",
       "3     True      0         0.253962                0.153393  ...   0   0   0   \n",
       "4     True      0         0.158675                0.179873  ...   1   0   0   \n",
       "\n",
       "   RS  SL  SR  SS  L  R  S  \n",
       "0   0   0   0   0  1  0  0  \n",
       "1   0   0   0   0  1  0  0  \n",
       "2   0   0   0   0  1  0  0  \n",
       "3   0   0   0   0  1  0  0  \n",
       "4   0   0   0   0  0  0  1  \n",
       "\n",
       "[5 rows x 29 columns]"
      ]
     },
     "execution_count": 6,
     "metadata": {},
     "output_type": "execute_result"
    }
   ],
   "source": [
    "df = df.join(pd.get_dummies(df['direction']))\n",
    "df = df.join(pd.get_dummies(df['hand']))\n",
    "\n",
    "df = df.drop(['timestep', 'hand', 'direction', 'impact'], axis=1)\n",
    "\n",
    "df.head()"
   ]
  },
  {
   "attachments": {},
   "cell_type": "markdown",
   "metadata": {},
   "source": [
    "update the split to maintain the target length in case some keytaps were dropped"
   ]
  },
  {
   "cell_type": "code",
   "execution_count": 7,
   "metadata": {},
   "outputs": [],
   "source": [
    "df['split'] = df.groupby('userkey').cumcount() // target_length"
   ]
  },
  {
   "attachments": {},
   "cell_type": "markdown",
   "metadata": {},
   "source": [
    "prepare data array in the shape (num samples, sequence length, num features)"
   ]
  },
  {
   "cell_type": "code",
   "execution_count": 8,
   "metadata": {},
   "outputs": [
    {
     "name": "stderr",
     "output_type": "stream",
     "text": [
      "100%|██████████| 90226/90226 [00:19<00:00, 4548.00it/s]\n"
     ]
    }
   ],
   "source": [
    "feat_cols = np.delete(df.columns, [0,1,6,7])\n",
    "\n",
    "def prep_data(target_length):\n",
    "    users_df = df.drop(feat_cols, axis=1).drop_duplicates().reset_index(drop=True)\n",
    "\n",
    "    data = np.zeros((len(users_df), target_length, len(feat_cols))) - 1\n",
    "    groups = df.groupby(['userkey', 'split'])\n",
    "    index = 0\n",
    "\n",
    "    for (userkey, sequence_id), group in tqdm(groups):\n",
    "        user_sequence = group[feat_cols].values\n",
    "        data[index, :len(user_sequence), :] = user_sequence\n",
    "        index += 1\n",
    "    \n",
    "    mask = (data != -1).astype(int)\n",
    "    targets = users_df.parkinsons.values\n",
    "    return torch.tensor(data).float(), torch.tensor(mask), torch.tensor(targets)\n",
    "\n",
    "data, mask, targets = prep_data(target_length)"
   ]
  },
  {
   "attachments": {},
   "cell_type": "markdown",
   "metadata": {},
   "source": [
    "exclude samples with less than 100 samples (any sequence with padding)"
   ]
  },
  {
   "cell_type": "code",
   "execution_count": 9,
   "metadata": {},
   "outputs": [],
   "source": [
    "keep = mask.sum(dim=1)[:,0]==target_length\n",
    "data = data[keep]\n",
    "mask = mask[keep]\n",
    "targets = targets[keep]"
   ]
  },
  {
   "cell_type": "code",
   "execution_count": 10,
   "metadata": {},
   "outputs": [
    {
     "data": {
      "text/plain": [
       "True     71.771605\n",
       "False    28.228395\n",
       "dtype: float64"
      ]
     },
     "execution_count": 10,
     "metadata": {},
     "output_type": "execute_result"
    }
   ],
   "source": [
    "# class imbalance\n",
    "pd.Series(targets).value_counts()/len(targets)*100"
   ]
  },
  {
   "attachments": {},
   "cell_type": "markdown",
   "metadata": {},
   "source": [
    "identify healthy and parkinsons samples. downsample the majority class to balance the dataset"
   ]
  },
  {
   "cell_type": "code",
   "execution_count": 11,
   "metadata": {},
   "outputs": [],
   "source": [
    "parkinsons_idx = np.where(targets)[0]\n",
    "healthy_idx = np.where(~targets)[0]"
   ]
  },
  {
   "cell_type": "code",
   "execution_count": 12,
   "metadata": {},
   "outputs": [
    {
     "data": {
      "text/plain": [
       "((64621,), (25416,))"
      ]
     },
     "execution_count": 12,
     "metadata": {},
     "output_type": "execute_result"
    }
   ],
   "source": [
    "parkinsons_idx.shape, healthy_idx.shape"
   ]
  },
  {
   "attachments": {},
   "cell_type": "markdown",
   "metadata": {},
   "source": [
    "undersample the majority class"
   ]
  },
  {
   "cell_type": "code",
   "execution_count": 13,
   "metadata": {},
   "outputs": [],
   "source": [
    "sample = np.random.choice(parkinsons_idx, size=len(healthy_idx), replace=False)"
   ]
  },
  {
   "cell_type": "code",
   "execution_count": 14,
   "metadata": {},
   "outputs": [
    {
     "data": {
      "text/plain": [
       "(25416, 25416)"
      ]
     },
     "execution_count": 14,
     "metadata": {},
     "output_type": "execute_result"
    }
   ],
   "source": [
    "len(sample), len(healthy_idx)"
   ]
  },
  {
   "cell_type": "code",
   "execution_count": 15,
   "metadata": {},
   "outputs": [],
   "source": [
    "indices = np.concatenate((healthy_idx, sample))\n",
    "np.random.shuffle(indices)"
   ]
  },
  {
   "cell_type": "code",
   "execution_count": 16,
   "metadata": {},
   "outputs": [],
   "source": [
    "def create_data_loaders(data, mask, targets, train_idx, test_idx, batch_size):\n",
    "    train_dataset = TensorDataset(data[train_idx], mask[train_idx], targets[train_idx])\n",
    "    test_dataset = TensorDataset(data[test_idx], mask[test_idx], targets[test_idx])\n",
    "\n",
    "    train_loader = DataLoader(train_dataset, batch_size=batch_size, shuffle=True)\n",
    "    test_loader = DataLoader(test_dataset, batch_size=batch_size, shuffle=False)\n",
    "\n",
    "    return train_loader, test_loader\n",
    "\n",
    "def update_hist(hist, fold, train_loss, train_acc, val_loss, val_acc):\n",
    "    hist[fold+'_train_loss'].append(train_loss)\n",
    "    hist[fold+'_train_acc'].append(train_acc)\n",
    "    hist[fold+'_val_loss'].append(val_loss)\n",
    "    hist[fold+'_val_acc'].append(val_acc)\n",
    "\n",
    "def get_sample_data(indices):\n",
    "    return data[indices], mask[indices], targets[indices]\n"
   ]
  },
  {
   "attachments": {},
   "cell_type": "markdown",
   "metadata": {},
   "source": [
    "split data into 5-folds for cross validation and then train and evaluate each"
   ]
  },
  {
   "cell_type": "code",
   "execution_count": 28,
   "metadata": {},
   "outputs": [
    {
     "name": "stderr",
     "output_type": "stream",
     "text": [
      "/opt/homebrew/Caskroom/miniconda/base/lib/python3.10/site-packages/torch/nn/modules/rnn.py:67: UserWarning: dropout option adds dropout after all but last recurrent layer, so non-zero dropout expects num_layers greater than 1, but got dropout=0.3 and num_layers=1\n",
      "  warnings.warn(\"dropout option adds dropout after all but last \"\n"
     ]
    },
    {
     "name": "stdout",
     "output_type": "stream",
     "text": [
      "Adjusting learning rate of group 0 to 1.0000e-03.\n"
     ]
    },
    {
     "name": "stderr",
     "output_type": "stream",
     "text": [
      "Training: 100%|██████████| 2542/2542 [00:25<00:00, 100.88it/s]\n",
      "Evaluation: 100%|██████████| 636/636 [00:01<00:00, 352.57it/s]\n"
     ]
    },
    {
     "name": "stdout",
     "output_type": "stream",
     "text": [
      "Epoch [1/30], TrLoss: 0.3228, TrAcc: 88.27%, VaLoss: 0.2541, VaAcc: 91.42%\n",
      "\n",
      "Adjusting learning rate of group 0 to 1.0000e-03.\n"
     ]
    },
    {
     "name": "stderr",
     "output_type": "stream",
     "text": [
      "Training: 100%|██████████| 2542/2542 [00:24<00:00, 101.91it/s]\n",
      "Evaluation: 100%|██████████| 636/636 [00:01<00:00, 360.67it/s]\n"
     ]
    },
    {
     "name": "stdout",
     "output_type": "stream",
     "text": [
      "Epoch [2/30], TrLoss: 0.2517, TrAcc: 91.18%, VaLoss: 0.2168, VaAcc: 91.86%\n",
      "\n",
      "Adjusting learning rate of group 0 to 1.0000e-03.\n"
     ]
    },
    {
     "name": "stderr",
     "output_type": "stream",
     "text": [
      "Training: 100%|██████████| 2542/2542 [00:24<00:00, 101.99it/s]\n",
      "Evaluation: 100%|██████████| 636/636 [00:01<00:00, 358.53it/s]\n"
     ]
    },
    {
     "name": "stdout",
     "output_type": "stream",
     "text": [
      "Epoch [3/30], TrLoss: 0.2446, TrAcc: 90.83%, VaLoss: 0.2153, VaAcc: 91.87%\n",
      "\n",
      "Adjusting learning rate of group 0 to 1.0000e-03.\n"
     ]
    },
    {
     "name": "stderr",
     "output_type": "stream",
     "text": [
      "Training: 100%|██████████| 2542/2542 [00:24<00:00, 101.93it/s]\n",
      "Evaluation: 100%|██████████| 636/636 [00:01<00:00, 364.44it/s]\n"
     ]
    },
    {
     "name": "stdout",
     "output_type": "stream",
     "text": [
      "Epoch [4/30], TrLoss: 0.2336, TrAcc: 91.15%, VaLoss: 0.1931, VaAcc: 92.26%\n",
      "\n",
      "Adjusting learning rate of group 0 to 1.0000e-03.\n"
     ]
    },
    {
     "name": "stderr",
     "output_type": "stream",
     "text": [
      "Training: 100%|██████████| 2542/2542 [00:24<00:00, 101.86it/s]\n",
      "Evaluation: 100%|██████████| 636/636 [00:01<00:00, 355.68it/s]\n"
     ]
    },
    {
     "name": "stdout",
     "output_type": "stream",
     "text": [
      "Epoch [5/30], TrLoss: 0.2224, TrAcc: 91.46%, VaLoss: 0.1938, VaAcc: 92.18%\n",
      "\n",
      "Adjusting learning rate of group 0 to 8.0000e-04.\n"
     ]
    },
    {
     "name": "stderr",
     "output_type": "stream",
     "text": [
      "Training: 100%|██████████| 2542/2542 [00:25<00:00, 100.45it/s]\n",
      "Evaluation: 100%|██████████| 636/636 [00:01<00:00, 364.16it/s]\n"
     ]
    },
    {
     "name": "stdout",
     "output_type": "stream",
     "text": [
      "Epoch [6/30], TrLoss: 0.2147, TrAcc: 91.67%, VaLoss: 0.1873, VaAcc: 92.33%\n",
      "\n",
      "Adjusting learning rate of group 0 to 8.0000e-04.\n"
     ]
    },
    {
     "name": "stderr",
     "output_type": "stream",
     "text": [
      "Training: 100%|██████████| 2542/2542 [00:24<00:00, 101.71it/s]\n",
      "Evaluation: 100%|██████████| 636/636 [00:01<00:00, 365.10it/s]\n"
     ]
    },
    {
     "name": "stdout",
     "output_type": "stream",
     "text": [
      "Epoch [7/30], TrLoss: 0.2108, TrAcc: 91.74%, VaLoss: 0.2003, VaAcc: 91.87%\n",
      "\n",
      "Adjusting learning rate of group 0 to 8.0000e-04.\n"
     ]
    },
    {
     "name": "stderr",
     "output_type": "stream",
     "text": [
      "Training: 100%|██████████| 2542/2542 [00:24<00:00, 101.82it/s]\n",
      "Evaluation: 100%|██████████| 636/636 [00:01<00:00, 364.12it/s]\n"
     ]
    },
    {
     "name": "stdout",
     "output_type": "stream",
     "text": [
      "Epoch [8/30], TrLoss: 0.2077, TrAcc: 91.77%, VaLoss: 0.1929, VaAcc: 92.33%\n",
      "\n",
      "Adjusting learning rate of group 0 to 8.0000e-04.\n"
     ]
    },
    {
     "name": "stderr",
     "output_type": "stream",
     "text": [
      "Training: 100%|██████████| 2542/2542 [00:25<00:00, 101.57it/s]\n",
      "Evaluation: 100%|██████████| 636/636 [00:01<00:00, 363.42it/s]\n"
     ]
    },
    {
     "name": "stdout",
     "output_type": "stream",
     "text": [
      "Epoch [9/30], TrLoss: 0.2064, TrAcc: 91.69%, VaLoss: 0.2020, VaAcc: 92.11%\n",
      "\n",
      "Adjusting learning rate of group 0 to 8.0000e-04.\n",
      "Validation loss did not improve for 3 epochs. Early stopping...\n",
      "              precision    recall  f1-score   support\n",
      "\n",
      "     Healthy       0.99      0.87      0.93      5799\n",
      "  Parkinsons       0.85      0.99      0.92      4368\n",
      "\n",
      "    accuracy                           0.92     10167\n",
      "   macro avg       0.92      0.93      0.92     10167\n",
      "weighted avg       0.93      0.92      0.92     10167\n",
      "\n",
      "\n"
     ]
    },
    {
     "name": "stderr",
     "output_type": "stream",
     "text": [
      "/opt/homebrew/Caskroom/miniconda/base/lib/python3.10/site-packages/torch/nn/modules/rnn.py:67: UserWarning: dropout option adds dropout after all but last recurrent layer, so non-zero dropout expects num_layers greater than 1, but got dropout=0.3 and num_layers=1\n",
      "  warnings.warn(\"dropout option adds dropout after all but last \"\n"
     ]
    },
    {
     "name": "stdout",
     "output_type": "stream",
     "text": [
      "Adjusting learning rate of group 0 to 1.0000e-03.\n"
     ]
    },
    {
     "name": "stderr",
     "output_type": "stream",
     "text": [
      "Training: 100%|██████████| 2542/2542 [00:25<00:00, 100.60it/s]\n",
      "Evaluation: 100%|██████████| 636/636 [00:01<00:00, 350.11it/s]\n"
     ]
    },
    {
     "name": "stdout",
     "output_type": "stream",
     "text": [
      "Epoch [1/30], TrLoss: 0.2945, TrAcc: 89.25%, VaLoss: 0.2052, VaAcc: 92.05%\n",
      "\n",
      "Adjusting learning rate of group 0 to 1.0000e-03.\n"
     ]
    },
    {
     "name": "stderr",
     "output_type": "stream",
     "text": [
      "Training: 100%|██████████| 2542/2542 [00:25<00:00, 101.45it/s]\n",
      "Evaluation: 100%|██████████| 636/636 [00:01<00:00, 363.72it/s]\n"
     ]
    },
    {
     "name": "stdout",
     "output_type": "stream",
     "text": [
      "Epoch [2/30], TrLoss: 0.2328, TrAcc: 91.48%, VaLoss: 0.1921, VaAcc: 92.33%\n",
      "\n",
      "Adjusting learning rate of group 0 to 1.0000e-03.\n"
     ]
    },
    {
     "name": "stderr",
     "output_type": "stream",
     "text": [
      "Training: 100%|██████████| 2542/2542 [00:25<00:00, 100.83it/s]\n",
      "Evaluation: 100%|██████████| 636/636 [00:01<00:00, 357.55it/s]\n"
     ]
    },
    {
     "name": "stdout",
     "output_type": "stream",
     "text": [
      "Epoch [3/30], TrLoss: 0.2210, TrAcc: 91.58%, VaLoss: 0.1890, VaAcc: 92.27%\n",
      "\n",
      "Adjusting learning rate of group 0 to 1.0000e-03.\n"
     ]
    },
    {
     "name": "stderr",
     "output_type": "stream",
     "text": [
      "Training: 100%|██████████| 2542/2542 [00:24<00:00, 102.19it/s]\n",
      "Evaluation: 100%|██████████| 636/636 [00:01<00:00, 362.96it/s]\n"
     ]
    },
    {
     "name": "stdout",
     "output_type": "stream",
     "text": [
      "Epoch [4/30], TrLoss: 0.2156, TrAcc: 91.83%, VaLoss: 0.2025, VaAcc: 92.40%\n",
      "\n",
      "Adjusting learning rate of group 0 to 1.0000e-03.\n"
     ]
    },
    {
     "name": "stderr",
     "output_type": "stream",
     "text": [
      "Training: 100%|██████████| 2542/2542 [00:25<00:00, 101.07it/s]\n",
      "Evaluation: 100%|██████████| 636/636 [00:01<00:00, 364.19it/s]\n"
     ]
    },
    {
     "name": "stdout",
     "output_type": "stream",
     "text": [
      "Epoch [5/30], TrLoss: 0.2122, TrAcc: 91.79%, VaLoss: 0.1955, VaAcc: 92.30%\n",
      "\n",
      "Adjusting learning rate of group 0 to 8.0000e-04.\n"
     ]
    },
    {
     "name": "stderr",
     "output_type": "stream",
     "text": [
      "Training: 100%|██████████| 2542/2542 [00:24<00:00, 102.32it/s]\n",
      "Evaluation: 100%|██████████| 636/636 [00:01<00:00, 365.02it/s]\n"
     ]
    },
    {
     "name": "stdout",
     "output_type": "stream",
     "text": [
      "Epoch [6/30], TrLoss: 0.2078, TrAcc: 91.73%, VaLoss: 0.1793, VaAcc: 92.52%\n",
      "\n",
      "Adjusting learning rate of group 0 to 8.0000e-04.\n"
     ]
    },
    {
     "name": "stderr",
     "output_type": "stream",
     "text": [
      "Training: 100%|██████████| 2542/2542 [00:25<00:00, 101.64it/s]\n",
      "Evaluation: 100%|██████████| 636/636 [00:01<00:00, 360.26it/s]\n"
     ]
    },
    {
     "name": "stdout",
     "output_type": "stream",
     "text": [
      "Epoch [7/30], TrLoss: 0.2112, TrAcc: 91.54%, VaLoss: 0.1760, VaAcc: 92.64%\n",
      "\n",
      "Adjusting learning rate of group 0 to 8.0000e-04.\n"
     ]
    },
    {
     "name": "stderr",
     "output_type": "stream",
     "text": [
      "Training: 100%|██████████| 2542/2542 [00:24<00:00, 102.39it/s]\n",
      "Evaluation: 100%|██████████| 636/636 [00:01<00:00, 366.08it/s]\n"
     ]
    },
    {
     "name": "stdout",
     "output_type": "stream",
     "text": [
      "Epoch [8/30], TrLoss: 0.2059, TrAcc: 91.84%, VaLoss: 0.1775, VaAcc: 92.61%\n",
      "\n",
      "Adjusting learning rate of group 0 to 8.0000e-04.\n"
     ]
    },
    {
     "name": "stderr",
     "output_type": "stream",
     "text": [
      "Training: 100%|██████████| 2542/2542 [00:25<00:00, 101.61it/s]\n",
      "Evaluation: 100%|██████████| 636/636 [00:01<00:00, 364.72it/s]\n"
     ]
    },
    {
     "name": "stdout",
     "output_type": "stream",
     "text": [
      "Epoch [9/30], TrLoss: 0.2051, TrAcc: 91.69%, VaLoss: 0.1760, VaAcc: 92.57%\n",
      "\n",
      "Adjusting learning rate of group 0 to 8.0000e-04.\n"
     ]
    },
    {
     "name": "stderr",
     "output_type": "stream",
     "text": [
      "Training: 100%|██████████| 2542/2542 [00:25<00:00, 101.54it/s]\n",
      "Evaluation: 100%|██████████| 636/636 [00:01<00:00, 352.57it/s]\n"
     ]
    },
    {
     "name": "stdout",
     "output_type": "stream",
     "text": [
      "Epoch [10/30], TrLoss: 0.2031, TrAcc: 91.85%, VaLoss: 0.1773, VaAcc: 92.60%\n",
      "\n",
      "Adjusting learning rate of group 0 to 6.4000e-04.\n",
      "Validation loss did not improve for 3 epochs. Early stopping...\n",
      "              precision    recall  f1-score   support\n",
      "\n",
      "     Healthy       0.99      0.88      0.93      5704\n",
      "  Parkinsons       0.87      0.99      0.92      4463\n",
      "\n",
      "    accuracy                           0.93     10167\n",
      "   macro avg       0.93      0.93      0.93     10167\n",
      "weighted avg       0.93      0.93      0.93     10167\n",
      "\n",
      "\n"
     ]
    },
    {
     "name": "stderr",
     "output_type": "stream",
     "text": [
      "/opt/homebrew/Caskroom/miniconda/base/lib/python3.10/site-packages/torch/nn/modules/rnn.py:67: UserWarning: dropout option adds dropout after all but last recurrent layer, so non-zero dropout expects num_layers greater than 1, but got dropout=0.3 and num_layers=1\n",
      "  warnings.warn(\"dropout option adds dropout after all but last \"\n"
     ]
    },
    {
     "name": "stdout",
     "output_type": "stream",
     "text": [
      "Adjusting learning rate of group 0 to 1.0000e-03.\n"
     ]
    },
    {
     "name": "stderr",
     "output_type": "stream",
     "text": [
      "Training: 100%|██████████| 2542/2542 [00:25<00:00, 101.14it/s]\n",
      "Evaluation: 100%|██████████| 636/636 [00:01<00:00, 353.07it/s]\n"
     ]
    },
    {
     "name": "stdout",
     "output_type": "stream",
     "text": [
      "Epoch [1/30], TrLoss: 0.3131, TrAcc: 89.29%, VaLoss: 0.2572, VaAcc: 90.32%\n",
      "\n",
      "Adjusting learning rate of group 0 to 1.0000e-03.\n"
     ]
    },
    {
     "name": "stderr",
     "output_type": "stream",
     "text": [
      "Training: 100%|██████████| 2542/2542 [00:24<00:00, 101.72it/s]\n",
      "Evaluation: 100%|██████████| 636/636 [00:01<00:00, 359.83it/s]\n"
     ]
    },
    {
     "name": "stdout",
     "output_type": "stream",
     "text": [
      "Epoch [2/30], TrLoss: 0.2669, TrAcc: 90.00%, VaLoss: 0.2372, VaAcc: 91.53%\n",
      "\n",
      "Adjusting learning rate of group 0 to 1.0000e-03.\n"
     ]
    },
    {
     "name": "stderr",
     "output_type": "stream",
     "text": [
      "Training: 100%|██████████| 2542/2542 [00:25<00:00, 101.66it/s]\n",
      "Evaluation: 100%|██████████| 636/636 [00:01<00:00, 365.23it/s]\n"
     ]
    },
    {
     "name": "stdout",
     "output_type": "stream",
     "text": [
      "Epoch [3/30], TrLoss: 0.2465, TrAcc: 90.99%, VaLoss: 0.2077, VaAcc: 91.69%\n",
      "\n",
      "Adjusting learning rate of group 0 to 1.0000e-03.\n"
     ]
    },
    {
     "name": "stderr",
     "output_type": "stream",
     "text": [
      "Training: 100%|██████████| 2542/2542 [00:24<00:00, 101.88it/s]\n",
      "Evaluation: 100%|██████████| 636/636 [00:01<00:00, 361.08it/s]\n"
     ]
    },
    {
     "name": "stdout",
     "output_type": "stream",
     "text": [
      "Epoch [4/30], TrLoss: 0.2547, TrAcc: 90.13%, VaLoss: 0.2179, VaAcc: 91.21%\n",
      "\n",
      "Adjusting learning rate of group 0 to 1.0000e-03.\n"
     ]
    },
    {
     "name": "stderr",
     "output_type": "stream",
     "text": [
      "Training: 100%|██████████| 2542/2542 [00:24<00:00, 101.75it/s]\n",
      "Evaluation: 100%|██████████| 636/636 [00:01<00:00, 365.26it/s]\n"
     ]
    },
    {
     "name": "stdout",
     "output_type": "stream",
     "text": [
      "Epoch [5/30], TrLoss: 0.2245, TrAcc: 91.57%, VaLoss: 0.2023, VaAcc: 91.76%\n",
      "\n",
      "Adjusting learning rate of group 0 to 8.0000e-04.\n"
     ]
    },
    {
     "name": "stderr",
     "output_type": "stream",
     "text": [
      "Training: 100%|██████████| 2542/2542 [00:24<00:00, 101.72it/s]\n",
      "Evaluation: 100%|██████████| 636/636 [00:01<00:00, 359.49it/s]\n"
     ]
    },
    {
     "name": "stdout",
     "output_type": "stream",
     "text": [
      "Epoch [6/30], TrLoss: 0.2232, TrAcc: 91.46%, VaLoss: 0.2080, VaAcc: 91.54%\n",
      "\n",
      "Adjusting learning rate of group 0 to 8.0000e-04.\n"
     ]
    },
    {
     "name": "stderr",
     "output_type": "stream",
     "text": [
      "Training: 100%|██████████| 2542/2542 [00:24<00:00, 101.72it/s]\n",
      "Evaluation: 100%|██████████| 636/636 [00:01<00:00, 364.89it/s]\n"
     ]
    },
    {
     "name": "stdout",
     "output_type": "stream",
     "text": [
      "Epoch [7/30], TrLoss: 0.2152, TrAcc: 91.92%, VaLoss: 0.1962, VaAcc: 92.27%\n",
      "\n",
      "Adjusting learning rate of group 0 to 8.0000e-04.\n"
     ]
    },
    {
     "name": "stderr",
     "output_type": "stream",
     "text": [
      "Training: 100%|██████████| 2542/2542 [00:25<00:00, 101.24it/s]\n",
      "Evaluation: 100%|██████████| 636/636 [00:01<00:00, 358.10it/s]\n"
     ]
    },
    {
     "name": "stdout",
     "output_type": "stream",
     "text": [
      "Epoch [8/30], TrLoss: 0.2142, TrAcc: 91.78%, VaLoss: 0.1937, VaAcc: 92.21%\n",
      "\n",
      "Adjusting learning rate of group 0 to 8.0000e-04.\n"
     ]
    },
    {
     "name": "stderr",
     "output_type": "stream",
     "text": [
      "Training: 100%|██████████| 2542/2542 [00:25<00:00, 100.52it/s]\n",
      "Evaluation: 100%|██████████| 636/636 [00:01<00:00, 367.11it/s]\n"
     ]
    },
    {
     "name": "stdout",
     "output_type": "stream",
     "text": [
      "Epoch [9/30], TrLoss: 0.2107, TrAcc: 91.90%, VaLoss: 0.1929, VaAcc: 92.25%\n",
      "\n",
      "Adjusting learning rate of group 0 to 8.0000e-04.\n"
     ]
    },
    {
     "name": "stderr",
     "output_type": "stream",
     "text": [
      "Training: 100%|██████████| 2542/2542 [00:24<00:00, 102.21it/s]\n",
      "Evaluation: 100%|██████████| 636/636 [00:01<00:00, 362.53it/s]\n"
     ]
    },
    {
     "name": "stdout",
     "output_type": "stream",
     "text": [
      "Epoch [10/30], TrLoss: 0.2117, TrAcc: 91.92%, VaLoss: 0.1917, VaAcc: 92.15%\n",
      "\n",
      "Adjusting learning rate of group 0 to 6.4000e-04.\n"
     ]
    },
    {
     "name": "stderr",
     "output_type": "stream",
     "text": [
      "Training: 100%|██████████| 2542/2542 [00:24<00:00, 102.13it/s]\n",
      "Evaluation: 100%|██████████| 636/636 [00:01<00:00, 363.22it/s]\n"
     ]
    },
    {
     "name": "stdout",
     "output_type": "stream",
     "text": [
      "Epoch [11/30], TrLoss: 0.2079, TrAcc: 92.11%, VaLoss: 0.1893, VaAcc: 92.16%\n",
      "\n",
      "Adjusting learning rate of group 0 to 6.4000e-04.\n"
     ]
    },
    {
     "name": "stderr",
     "output_type": "stream",
     "text": [
      "Training: 100%|██████████| 2542/2542 [00:24<00:00, 101.79it/s]\n",
      "Evaluation: 100%|██████████| 636/636 [00:01<00:00, 361.04it/s]\n"
     ]
    },
    {
     "name": "stdout",
     "output_type": "stream",
     "text": [
      "Epoch [12/30], TrLoss: 0.2074, TrAcc: 92.02%, VaLoss: 0.1898, VaAcc: 92.30%\n",
      "\n",
      "Adjusting learning rate of group 0 to 6.4000e-04.\n"
     ]
    },
    {
     "name": "stderr",
     "output_type": "stream",
     "text": [
      "Training: 100%|██████████| 2542/2542 [00:24<00:00, 101.80it/s]\n",
      "Evaluation: 100%|██████████| 636/636 [00:01<00:00, 366.54it/s]\n"
     ]
    },
    {
     "name": "stdout",
     "output_type": "stream",
     "text": [
      "Epoch [13/30], TrLoss: 0.2083, TrAcc: 91.97%, VaLoss: 0.1938, VaAcc: 91.97%\n",
      "\n",
      "Adjusting learning rate of group 0 to 6.4000e-04.\n"
     ]
    },
    {
     "name": "stderr",
     "output_type": "stream",
     "text": [
      "Training: 100%|██████████| 2542/2542 [00:24<00:00, 101.82it/s]\n",
      "Evaluation: 100%|██████████| 636/636 [00:01<00:00, 359.19it/s]\n"
     ]
    },
    {
     "name": "stdout",
     "output_type": "stream",
     "text": [
      "Epoch [14/30], TrLoss: 0.2048, TrAcc: 92.10%, VaLoss: 0.1885, VaAcc: 92.39%\n",
      "\n",
      "Adjusting learning rate of group 0 to 6.4000e-04.\n"
     ]
    },
    {
     "name": "stderr",
     "output_type": "stream",
     "text": [
      "Training: 100%|██████████| 2542/2542 [00:24<00:00, 101.84it/s]\n",
      "Evaluation: 100%|██████████| 636/636 [00:01<00:00, 366.28it/s]\n"
     ]
    },
    {
     "name": "stdout",
     "output_type": "stream",
     "text": [
      "Epoch [15/30], TrLoss: 0.2042, TrAcc: 92.05%, VaLoss: 0.1886, VaAcc: 92.36%\n",
      "\n",
      "Adjusting learning rate of group 0 to 5.1200e-04.\n"
     ]
    },
    {
     "name": "stderr",
     "output_type": "stream",
     "text": [
      "Training: 100%|██████████| 2542/2542 [00:24<00:00, 101.98it/s]\n",
      "Evaluation: 100%|██████████| 636/636 [00:01<00:00, 359.44it/s]\n"
     ]
    },
    {
     "name": "stdout",
     "output_type": "stream",
     "text": [
      "Epoch [16/30], TrLoss: 0.2023, TrAcc: 92.12%, VaLoss: 0.1866, VaAcc: 92.42%\n",
      "\n",
      "Adjusting learning rate of group 0 to 5.1200e-04.\n"
     ]
    },
    {
     "name": "stderr",
     "output_type": "stream",
     "text": [
      "Training: 100%|██████████| 2542/2542 [00:25<00:00, 101.64it/s]\n",
      "Evaluation: 100%|██████████| 636/636 [00:01<00:00, 362.38it/s]\n"
     ]
    },
    {
     "name": "stdout",
     "output_type": "stream",
     "text": [
      "Epoch [17/30], TrLoss: 0.2018, TrAcc: 92.25%, VaLoss: 0.1859, VaAcc: 92.31%\n",
      "\n",
      "Adjusting learning rate of group 0 to 5.1200e-04.\n"
     ]
    },
    {
     "name": "stderr",
     "output_type": "stream",
     "text": [
      "Training: 100%|██████████| 2542/2542 [00:25<00:00, 100.18it/s]\n",
      "Evaluation: 100%|██████████| 636/636 [00:01<00:00, 353.23it/s]\n"
     ]
    },
    {
     "name": "stdout",
     "output_type": "stream",
     "text": [
      "Epoch [18/30], TrLoss: 0.1998, TrAcc: 92.31%, VaLoss: 0.1862, VaAcc: 92.25%\n",
      "\n",
      "Adjusting learning rate of group 0 to 5.1200e-04.\n"
     ]
    },
    {
     "name": "stderr",
     "output_type": "stream",
     "text": [
      "Training: 100%|██████████| 2542/2542 [00:25<00:00, 98.99it/s] \n",
      "Evaluation: 100%|██████████| 636/636 [00:01<00:00, 360.04it/s]\n"
     ]
    },
    {
     "name": "stdout",
     "output_type": "stream",
     "text": [
      "Epoch [19/30], TrLoss: 0.2000, TrAcc: 92.20%, VaLoss: 0.1840, VaAcc: 92.38%\n",
      "\n",
      "Adjusting learning rate of group 0 to 5.1200e-04.\n"
     ]
    },
    {
     "name": "stderr",
     "output_type": "stream",
     "text": [
      "Training: 100%|██████████| 2542/2542 [00:25<00:00, 101.25it/s]\n",
      "Evaluation: 100%|██████████| 636/636 [00:01<00:00, 363.00it/s]\n"
     ]
    },
    {
     "name": "stdout",
     "output_type": "stream",
     "text": [
      "Epoch [20/30], TrLoss: 0.1991, TrAcc: 92.31%, VaLoss: 0.1836, VaAcc: 92.68%\n",
      "\n",
      "Adjusting learning rate of group 0 to 4.0960e-04.\n"
     ]
    },
    {
     "name": "stderr",
     "output_type": "stream",
     "text": [
      "Training: 100%|██████████| 2542/2542 [00:25<00:00, 101.28it/s]\n",
      "Evaluation: 100%|██████████| 636/636 [00:01<00:00, 363.32it/s]\n"
     ]
    },
    {
     "name": "stdout",
     "output_type": "stream",
     "text": [
      "Epoch [21/30], TrLoss: 0.1996, TrAcc: 92.27%, VaLoss: 0.1835, VaAcc: 92.29%\n",
      "\n",
      "Adjusting learning rate of group 0 to 4.0960e-04.\n"
     ]
    },
    {
     "name": "stderr",
     "output_type": "stream",
     "text": [
      "Training: 100%|██████████| 2542/2542 [00:24<00:00, 103.53it/s]\n",
      "Evaluation: 100%|██████████| 636/636 [00:01<00:00, 367.26it/s]\n"
     ]
    },
    {
     "name": "stdout",
     "output_type": "stream",
     "text": [
      "Epoch [22/30], TrLoss: 0.1971, TrAcc: 92.32%, VaLoss: 0.1833, VaAcc: 92.35%\n",
      "\n",
      "Adjusting learning rate of group 0 to 4.0960e-04.\n"
     ]
    },
    {
     "name": "stderr",
     "output_type": "stream",
     "text": [
      "Training: 100%|██████████| 2542/2542 [00:24<00:00, 102.71it/s]\n",
      "Evaluation: 100%|██████████| 636/636 [00:01<00:00, 367.06it/s]\n"
     ]
    },
    {
     "name": "stdout",
     "output_type": "stream",
     "text": [
      "Epoch [23/30], TrLoss: 0.1982, TrAcc: 92.25%, VaLoss: 0.1826, VaAcc: 92.34%\n",
      "\n",
      "Adjusting learning rate of group 0 to 4.0960e-04.\n"
     ]
    },
    {
     "name": "stderr",
     "output_type": "stream",
     "text": [
      "Training: 100%|██████████| 2542/2542 [00:24<00:00, 102.75it/s]\n",
      "Evaluation: 100%|██████████| 636/636 [00:01<00:00, 363.76it/s]\n"
     ]
    },
    {
     "name": "stdout",
     "output_type": "stream",
     "text": [
      "Epoch [24/30], TrLoss: 0.2004, TrAcc: 92.15%, VaLoss: 0.1801, VaAcc: 92.63%\n",
      "\n",
      "Adjusting learning rate of group 0 to 4.0960e-04.\n"
     ]
    },
    {
     "name": "stderr",
     "output_type": "stream",
     "text": [
      "Training: 100%|██████████| 2542/2542 [00:24<00:00, 103.12it/s]\n",
      "Evaluation: 100%|██████████| 636/636 [00:01<00:00, 366.97it/s]\n"
     ]
    },
    {
     "name": "stdout",
     "output_type": "stream",
     "text": [
      "Epoch [25/30], TrLoss: 0.1958, TrAcc: 92.40%, VaLoss: 0.1792, VaAcc: 92.69%\n",
      "\n",
      "Adjusting learning rate of group 0 to 3.2768e-04.\n"
     ]
    },
    {
     "name": "stderr",
     "output_type": "stream",
     "text": [
      "Training: 100%|██████████| 2542/2542 [00:24<00:00, 102.40it/s]\n",
      "Evaluation: 100%|██████████| 636/636 [00:01<00:00, 356.66it/s]\n"
     ]
    },
    {
     "name": "stdout",
     "output_type": "stream",
     "text": [
      "Epoch [26/30], TrLoss: 0.1936, TrAcc: 92.43%, VaLoss: 0.1803, VaAcc: 92.44%\n",
      "\n",
      "Adjusting learning rate of group 0 to 3.2768e-04.\n"
     ]
    },
    {
     "name": "stderr",
     "output_type": "stream",
     "text": [
      "Training: 100%|██████████| 2542/2542 [00:24<00:00, 103.46it/s]\n",
      "Evaluation: 100%|██████████| 636/636 [00:01<00:00, 367.05it/s]\n"
     ]
    },
    {
     "name": "stdout",
     "output_type": "stream",
     "text": [
      "Epoch [27/30], TrLoss: 0.1953, TrAcc: 92.37%, VaLoss: 0.1812, VaAcc: 92.60%\n",
      "\n",
      "Adjusting learning rate of group 0 to 3.2768e-04.\n"
     ]
    },
    {
     "name": "stderr",
     "output_type": "stream",
     "text": [
      "Training: 100%|██████████| 2542/2542 [00:24<00:00, 103.41it/s]\n",
      "Evaluation: 100%|██████████| 636/636 [00:01<00:00, 367.56it/s]\n"
     ]
    },
    {
     "name": "stdout",
     "output_type": "stream",
     "text": [
      "Epoch [28/30], TrLoss: 0.1949, TrAcc: 92.48%, VaLoss: 0.1788, VaAcc: 92.51%\n",
      "\n",
      "Adjusting learning rate of group 0 to 3.2768e-04.\n"
     ]
    },
    {
     "name": "stderr",
     "output_type": "stream",
     "text": [
      "Training: 100%|██████████| 2542/2542 [00:24<00:00, 102.96it/s]\n",
      "Evaluation: 100%|██████████| 636/636 [00:01<00:00, 362.31it/s]\n"
     ]
    },
    {
     "name": "stdout",
     "output_type": "stream",
     "text": [
      "Epoch [29/30], TrLoss: 0.1950, TrAcc: 92.33%, VaLoss: 0.1785, VaAcc: 92.52%\n",
      "\n",
      "Adjusting learning rate of group 0 to 3.2768e-04.\n"
     ]
    },
    {
     "name": "stderr",
     "output_type": "stream",
     "text": [
      "Training: 100%|██████████| 2542/2542 [00:24<00:00, 102.96it/s]\n",
      "Evaluation: 100%|██████████| 636/636 [00:01<00:00, 366.82it/s]\n"
     ]
    },
    {
     "name": "stdout",
     "output_type": "stream",
     "text": [
      "Epoch [30/30], TrLoss: 0.1933, TrAcc: 92.47%, VaLoss: 0.1772, VaAcc: 92.64%\n",
      "\n",
      "Adjusting learning rate of group 0 to 2.6214e-04.\n",
      "              precision    recall  f1-score   support\n",
      "\n",
      "     Healthy       0.98      0.89      0.93      5629\n",
      "  Parkinsons       0.87      0.98      0.92      4537\n",
      "\n",
      "    accuracy                           0.93     10166\n",
      "   macro avg       0.93      0.93      0.93     10166\n",
      "weighted avg       0.93      0.93      0.93     10166\n",
      "\n",
      "\n"
     ]
    },
    {
     "name": "stderr",
     "output_type": "stream",
     "text": [
      "/opt/homebrew/Caskroom/miniconda/base/lib/python3.10/site-packages/torch/nn/modules/rnn.py:67: UserWarning: dropout option adds dropout after all but last recurrent layer, so non-zero dropout expects num_layers greater than 1, but got dropout=0.3 and num_layers=1\n",
      "  warnings.warn(\"dropout option adds dropout after all but last \"\n"
     ]
    },
    {
     "name": "stdout",
     "output_type": "stream",
     "text": [
      "Adjusting learning rate of group 0 to 1.0000e-03.\n"
     ]
    },
    {
     "name": "stderr",
     "output_type": "stream",
     "text": [
      "Training: 100%|██████████| 2542/2542 [00:24<00:00, 101.77it/s]\n",
      "Evaluation: 100%|██████████| 636/636 [00:01<00:00, 351.07it/s]\n"
     ]
    },
    {
     "name": "stdout",
     "output_type": "stream",
     "text": [
      "Epoch [1/30], TrLoss: 0.3067, TrAcc: 89.24%, VaLoss: 0.2481, VaAcc: 91.76%\n",
      "\n",
      "Adjusting learning rate of group 0 to 1.0000e-03.\n"
     ]
    },
    {
     "name": "stderr",
     "output_type": "stream",
     "text": [
      "Training: 100%|██████████| 2542/2542 [00:24<00:00, 102.89it/s]\n",
      "Evaluation: 100%|██████████| 636/636 [00:01<00:00, 367.43it/s]\n"
     ]
    },
    {
     "name": "stdout",
     "output_type": "stream",
     "text": [
      "Epoch [2/30], TrLoss: 0.2512, TrAcc: 90.61%, VaLoss: 0.2181, VaAcc: 91.13%\n",
      "\n",
      "Adjusting learning rate of group 0 to 1.0000e-03.\n"
     ]
    },
    {
     "name": "stderr",
     "output_type": "stream",
     "text": [
      "Training: 100%|██████████| 2542/2542 [00:24<00:00, 102.89it/s]\n",
      "Evaluation: 100%|██████████| 636/636 [00:01<00:00, 362.91it/s]\n"
     ]
    },
    {
     "name": "stdout",
     "output_type": "stream",
     "text": [
      "Epoch [3/30], TrLoss: 0.2249, TrAcc: 91.50%, VaLoss: 0.2044, VaAcc: 92.36%\n",
      "\n",
      "Adjusting learning rate of group 0 to 1.0000e-03.\n"
     ]
    },
    {
     "name": "stderr",
     "output_type": "stream",
     "text": [
      "Training: 100%|██████████| 2542/2542 [00:24<00:00, 102.97it/s]\n",
      "Evaluation: 100%|██████████| 636/636 [00:01<00:00, 368.44it/s]\n"
     ]
    },
    {
     "name": "stdout",
     "output_type": "stream",
     "text": [
      "Epoch [4/30], TrLoss: 0.2172, TrAcc: 91.62%, VaLoss: 0.1973, VaAcc: 92.01%\n",
      "\n",
      "Adjusting learning rate of group 0 to 1.0000e-03.\n"
     ]
    },
    {
     "name": "stderr",
     "output_type": "stream",
     "text": [
      "Training: 100%|██████████| 2542/2542 [00:24<00:00, 102.79it/s]\n",
      "Evaluation: 100%|██████████| 636/636 [00:01<00:00, 367.05it/s]\n"
     ]
    },
    {
     "name": "stdout",
     "output_type": "stream",
     "text": [
      "Epoch [5/30], TrLoss: 0.2115, TrAcc: 91.89%, VaLoss: 0.1924, VaAcc: 92.43%\n",
      "\n",
      "Adjusting learning rate of group 0 to 8.0000e-04.\n"
     ]
    },
    {
     "name": "stderr",
     "output_type": "stream",
     "text": [
      "Training: 100%|██████████| 2542/2542 [00:24<00:00, 102.76it/s]\n",
      "Evaluation: 100%|██████████| 636/636 [00:01<00:00, 367.04it/s]\n"
     ]
    },
    {
     "name": "stdout",
     "output_type": "stream",
     "text": [
      "Epoch [6/30], TrLoss: 0.2038, TrAcc: 92.04%, VaLoss: 0.1871, VaAcc: 92.47%\n",
      "\n",
      "Adjusting learning rate of group 0 to 8.0000e-04.\n"
     ]
    },
    {
     "name": "stderr",
     "output_type": "stream",
     "text": [
      "Training: 100%|██████████| 2542/2542 [00:24<00:00, 102.57it/s]\n",
      "Evaluation: 100%|██████████| 636/636 [00:01<00:00, 362.40it/s]\n"
     ]
    },
    {
     "name": "stdout",
     "output_type": "stream",
     "text": [
      "Epoch [7/30], TrLoss: 0.2019, TrAcc: 92.12%, VaLoss: 0.1884, VaAcc: 92.54%\n",
      "\n",
      "Adjusting learning rate of group 0 to 8.0000e-04.\n"
     ]
    },
    {
     "name": "stderr",
     "output_type": "stream",
     "text": [
      "Training: 100%|██████████| 2542/2542 [00:24<00:00, 102.14it/s]\n",
      "Evaluation: 100%|██████████| 636/636 [00:01<00:00, 367.21it/s]\n"
     ]
    },
    {
     "name": "stdout",
     "output_type": "stream",
     "text": [
      "Epoch [8/30], TrLoss: 0.1997, TrAcc: 92.26%, VaLoss: 0.1825, VaAcc: 92.62%\n",
      "\n",
      "Adjusting learning rate of group 0 to 8.0000e-04.\n"
     ]
    },
    {
     "name": "stderr",
     "output_type": "stream",
     "text": [
      "Training: 100%|██████████| 2542/2542 [00:24<00:00, 102.92it/s]\n",
      "Evaluation: 100%|██████████| 636/636 [00:01<00:00, 367.76it/s]\n"
     ]
    },
    {
     "name": "stdout",
     "output_type": "stream",
     "text": [
      "Epoch [9/30], TrLoss: 0.1964, TrAcc: 92.33%, VaLoss: 0.1806, VaAcc: 92.82%\n",
      "\n",
      "Adjusting learning rate of group 0 to 8.0000e-04.\n"
     ]
    },
    {
     "name": "stderr",
     "output_type": "stream",
     "text": [
      "Training: 100%|██████████| 2542/2542 [00:24<00:00, 102.82it/s]\n",
      "Evaluation: 100%|██████████| 636/636 [00:01<00:00, 367.34it/s]\n"
     ]
    },
    {
     "name": "stdout",
     "output_type": "stream",
     "text": [
      "Epoch [10/30], TrLoss: 0.1954, TrAcc: 92.41%, VaLoss: 0.1801, VaAcc: 92.90%\n",
      "\n",
      "Adjusting learning rate of group 0 to 6.4000e-04.\n"
     ]
    },
    {
     "name": "stderr",
     "output_type": "stream",
     "text": [
      "Training: 100%|██████████| 2542/2542 [00:24<00:00, 102.72it/s]\n",
      "Evaluation: 100%|██████████| 636/636 [00:01<00:00, 371.28it/s]\n"
     ]
    },
    {
     "name": "stdout",
     "output_type": "stream",
     "text": [
      "Epoch [11/30], TrLoss: 0.1927, TrAcc: 92.46%, VaLoss: 0.1766, VaAcc: 92.93%\n",
      "\n",
      "Adjusting learning rate of group 0 to 6.4000e-04.\n"
     ]
    },
    {
     "name": "stderr",
     "output_type": "stream",
     "text": [
      "Training: 100%|██████████| 2542/2542 [00:24<00:00, 103.08it/s]\n",
      "Evaluation: 100%|██████████| 636/636 [00:01<00:00, 370.19it/s]\n"
     ]
    },
    {
     "name": "stdout",
     "output_type": "stream",
     "text": [
      "Epoch [12/30], TrLoss: 0.1913, TrAcc: 92.54%, VaLoss: 0.1785, VaAcc: 92.89%\n",
      "\n",
      "Adjusting learning rate of group 0 to 6.4000e-04.\n"
     ]
    },
    {
     "name": "stderr",
     "output_type": "stream",
     "text": [
      "Training: 100%|██████████| 2542/2542 [00:24<00:00, 103.08it/s]\n",
      "Evaluation: 100%|██████████| 636/636 [00:01<00:00, 370.60it/s]\n"
     ]
    },
    {
     "name": "stdout",
     "output_type": "stream",
     "text": [
      "Epoch [13/30], TrLoss: 0.1906, TrAcc: 92.59%, VaLoss: 0.1770, VaAcc: 92.86%\n",
      "\n",
      "Adjusting learning rate of group 0 to 6.4000e-04.\n"
     ]
    },
    {
     "name": "stderr",
     "output_type": "stream",
     "text": [
      "Training: 100%|██████████| 2542/2542 [00:24<00:00, 103.01it/s]\n",
      "Evaluation: 100%|██████████| 636/636 [00:01<00:00, 370.97it/s]\n"
     ]
    },
    {
     "name": "stdout",
     "output_type": "stream",
     "text": [
      "Epoch [14/30], TrLoss: 0.1887, TrAcc: 92.60%, VaLoss: 0.1755, VaAcc: 92.97%\n",
      "\n",
      "Adjusting learning rate of group 0 to 6.4000e-04.\n"
     ]
    },
    {
     "name": "stderr",
     "output_type": "stream",
     "text": [
      "Training: 100%|██████████| 2542/2542 [00:24<00:00, 103.00it/s]\n",
      "Evaluation: 100%|██████████| 636/636 [00:01<00:00, 370.69it/s]\n"
     ]
    },
    {
     "name": "stdout",
     "output_type": "stream",
     "text": [
      "Epoch [15/30], TrLoss: 0.1864, TrAcc: 92.60%, VaLoss: 0.1818, VaAcc: 92.84%\n",
      "\n",
      "Adjusting learning rate of group 0 to 5.1200e-04.\n"
     ]
    },
    {
     "name": "stderr",
     "output_type": "stream",
     "text": [
      "Training: 100%|██████████| 2542/2542 [00:24<00:00, 103.27it/s]\n",
      "Evaluation: 100%|██████████| 636/636 [00:01<00:00, 364.89it/s]\n"
     ]
    },
    {
     "name": "stdout",
     "output_type": "stream",
     "text": [
      "Epoch [16/30], TrLoss: 0.1842, TrAcc: 92.81%, VaLoss: 0.1712, VaAcc: 93.17%\n",
      "\n",
      "Adjusting learning rate of group 0 to 5.1200e-04.\n"
     ]
    },
    {
     "name": "stderr",
     "output_type": "stream",
     "text": [
      "Training: 100%|██████████| 2542/2542 [00:24<00:00, 103.27it/s]\n",
      "Evaluation: 100%|██████████| 636/636 [00:01<00:00, 370.66it/s]\n"
     ]
    },
    {
     "name": "stdout",
     "output_type": "stream",
     "text": [
      "Epoch [17/30], TrLoss: 0.1840, TrAcc: 92.77%, VaLoss: 0.1698, VaAcc: 93.24%\n",
      "\n",
      "Adjusting learning rate of group 0 to 5.1200e-04.\n"
     ]
    },
    {
     "name": "stderr",
     "output_type": "stream",
     "text": [
      "Training: 100%|██████████| 2542/2542 [00:24<00:00, 102.94it/s]\n",
      "Evaluation: 100%|██████████| 636/636 [00:01<00:00, 370.54it/s]\n"
     ]
    },
    {
     "name": "stdout",
     "output_type": "stream",
     "text": [
      "Epoch [18/30], TrLoss: 0.1810, TrAcc: 92.86%, VaLoss: 0.1681, VaAcc: 93.24%\n",
      "\n",
      "Adjusting learning rate of group 0 to 5.1200e-04.\n"
     ]
    },
    {
     "name": "stderr",
     "output_type": "stream",
     "text": [
      "Training: 100%|██████████| 2542/2542 [00:24<00:00, 102.84it/s]\n",
      "Evaluation: 100%|██████████| 636/636 [00:01<00:00, 342.72it/s]\n"
     ]
    },
    {
     "name": "stdout",
     "output_type": "stream",
     "text": [
      "Epoch [19/30], TrLoss: 0.1819, TrAcc: 92.82%, VaLoss: 0.1678, VaAcc: 93.14%\n",
      "\n",
      "Adjusting learning rate of group 0 to 5.1200e-04.\n"
     ]
    },
    {
     "name": "stderr",
     "output_type": "stream",
     "text": [
      "Training: 100%|██████████| 2542/2542 [00:24<00:00, 103.19it/s]\n",
      "Evaluation: 100%|██████████| 636/636 [00:01<00:00, 370.43it/s]\n"
     ]
    },
    {
     "name": "stdout",
     "output_type": "stream",
     "text": [
      "Epoch [20/30], TrLoss: 0.1803, TrAcc: 92.85%, VaLoss: 0.1709, VaAcc: 93.06%\n",
      "\n",
      "Adjusting learning rate of group 0 to 4.0960e-04.\n"
     ]
    },
    {
     "name": "stderr",
     "output_type": "stream",
     "text": [
      "Training: 100%|██████████| 2542/2542 [00:24<00:00, 103.28it/s]\n",
      "Evaluation: 100%|██████████| 636/636 [00:01<00:00, 370.84it/s]\n"
     ]
    },
    {
     "name": "stdout",
     "output_type": "stream",
     "text": [
      "Epoch [21/30], TrLoss: 0.1785, TrAcc: 92.87%, VaLoss: 0.1667, VaAcc: 93.30%\n",
      "\n",
      "Adjusting learning rate of group 0 to 4.0960e-04.\n"
     ]
    },
    {
     "name": "stderr",
     "output_type": "stream",
     "text": [
      "Training: 100%|██████████| 2542/2542 [00:24<00:00, 103.29it/s]\n",
      "Evaluation: 100%|██████████| 636/636 [00:01<00:00, 371.91it/s]\n"
     ]
    },
    {
     "name": "stdout",
     "output_type": "stream",
     "text": [
      "Epoch [22/30], TrLoss: 0.1783, TrAcc: 92.96%, VaLoss: 0.1664, VaAcc: 93.13%\n",
      "\n",
      "Adjusting learning rate of group 0 to 4.0960e-04.\n"
     ]
    },
    {
     "name": "stderr",
     "output_type": "stream",
     "text": [
      "Training: 100%|██████████| 2542/2542 [00:24<00:00, 103.30it/s]\n",
      "Evaluation: 100%|██████████| 636/636 [00:01<00:00, 370.99it/s]\n"
     ]
    },
    {
     "name": "stdout",
     "output_type": "stream",
     "text": [
      "Epoch [23/30], TrLoss: 0.1779, TrAcc: 92.90%, VaLoss: 0.1650, VaAcc: 93.44%\n",
      "\n",
      "Adjusting learning rate of group 0 to 4.0960e-04.\n"
     ]
    },
    {
     "name": "stderr",
     "output_type": "stream",
     "text": [
      "Training: 100%|██████████| 2542/2542 [00:24<00:00, 103.31it/s]\n",
      "Evaluation: 100%|██████████| 636/636 [00:01<00:00, 370.83it/s]\n"
     ]
    },
    {
     "name": "stdout",
     "output_type": "stream",
     "text": [
      "Epoch [24/30], TrLoss: 0.1791, TrAcc: 92.93%, VaLoss: 0.1627, VaAcc: 93.42%\n",
      "\n",
      "Adjusting learning rate of group 0 to 4.0960e-04.\n"
     ]
    },
    {
     "name": "stderr",
     "output_type": "stream",
     "text": [
      "Training: 100%|██████████| 2542/2542 [00:24<00:00, 103.05it/s]\n",
      "Evaluation: 100%|██████████| 636/636 [00:01<00:00, 370.66it/s]\n"
     ]
    },
    {
     "name": "stdout",
     "output_type": "stream",
     "text": [
      "Epoch [25/30], TrLoss: 0.1775, TrAcc: 92.95%, VaLoss: 0.1634, VaAcc: 93.42%\n",
      "\n",
      "Adjusting learning rate of group 0 to 3.2768e-04.\n"
     ]
    },
    {
     "name": "stderr",
     "output_type": "stream",
     "text": [
      "Training: 100%|██████████| 2542/2542 [00:24<00:00, 103.25it/s]\n",
      "Evaluation: 100%|██████████| 636/636 [00:01<00:00, 366.11it/s]\n"
     ]
    },
    {
     "name": "stdout",
     "output_type": "stream",
     "text": [
      "Epoch [26/30], TrLoss: 0.1742, TrAcc: 93.01%, VaLoss: 0.1682, VaAcc: 93.47%\n",
      "\n",
      "Adjusting learning rate of group 0 to 3.2768e-04.\n"
     ]
    },
    {
     "name": "stderr",
     "output_type": "stream",
     "text": [
      "Training: 100%|██████████| 2542/2542 [00:24<00:00, 103.01it/s]\n",
      "Evaluation: 100%|██████████| 636/636 [00:01<00:00, 371.11it/s]\n"
     ]
    },
    {
     "name": "stdout",
     "output_type": "stream",
     "text": [
      "Epoch [27/30], TrLoss: 0.1748, TrAcc: 92.93%, VaLoss: 0.1592, VaAcc: 93.40%\n",
      "\n",
      "Adjusting learning rate of group 0 to 3.2768e-04.\n"
     ]
    },
    {
     "name": "stderr",
     "output_type": "stream",
     "text": [
      "Training: 100%|██████████| 2542/2542 [00:24<00:00, 103.25it/s]\n",
      "Evaluation: 100%|██████████| 636/636 [00:01<00:00, 370.25it/s]\n"
     ]
    },
    {
     "name": "stdout",
     "output_type": "stream",
     "text": [
      "Epoch [28/30], TrLoss: 0.1740, TrAcc: 92.95%, VaLoss: 0.1618, VaAcc: 93.28%\n",
      "\n",
      "Adjusting learning rate of group 0 to 3.2768e-04.\n"
     ]
    },
    {
     "name": "stderr",
     "output_type": "stream",
     "text": [
      "Training: 100%|██████████| 2542/2542 [00:24<00:00, 103.25it/s]\n",
      "Evaluation: 100%|██████████| 636/636 [00:01<00:00, 371.87it/s]\n"
     ]
    },
    {
     "name": "stdout",
     "output_type": "stream",
     "text": [
      "Epoch [29/30], TrLoss: 0.1733, TrAcc: 93.02%, VaLoss: 0.1630, VaAcc: 93.30%\n",
      "\n",
      "Adjusting learning rate of group 0 to 3.2768e-04.\n"
     ]
    },
    {
     "name": "stderr",
     "output_type": "stream",
     "text": [
      "Training: 100%|██████████| 2542/2542 [00:24<00:00, 103.21it/s]\n",
      "Evaluation: 100%|██████████| 636/636 [00:01<00:00, 356.12it/s]\n"
     ]
    },
    {
     "name": "stdout",
     "output_type": "stream",
     "text": [
      "Epoch [30/30], TrLoss: 0.1737, TrAcc: 92.88%, VaLoss: 0.1624, VaAcc: 93.29%\n",
      "\n",
      "Adjusting learning rate of group 0 to 2.6214e-04.\n",
      "Validation loss did not improve for 3 epochs. Early stopping...\n",
      "              precision    recall  f1-score   support\n",
      "\n",
      "     Healthy       0.99      0.89      0.94      5629\n",
      "  Parkinsons       0.88      0.99      0.93      4537\n",
      "\n",
      "    accuracy                           0.93     10166\n",
      "   macro avg       0.93      0.94      0.93     10166\n",
      "weighted avg       0.94      0.93      0.93     10166\n",
      "\n",
      "\n"
     ]
    },
    {
     "name": "stderr",
     "output_type": "stream",
     "text": [
      "/opt/homebrew/Caskroom/miniconda/base/lib/python3.10/site-packages/torch/nn/modules/rnn.py:67: UserWarning: dropout option adds dropout after all but last recurrent layer, so non-zero dropout expects num_layers greater than 1, but got dropout=0.3 and num_layers=1\n",
      "  warnings.warn(\"dropout option adds dropout after all but last \"\n"
     ]
    },
    {
     "name": "stdout",
     "output_type": "stream",
     "text": [
      "Adjusting learning rate of group 0 to 1.0000e-03.\n"
     ]
    },
    {
     "name": "stderr",
     "output_type": "stream",
     "text": [
      "Training: 100%|██████████| 2542/2542 [00:24<00:00, 102.02it/s]\n",
      "Evaluation: 100%|██████████| 636/636 [00:01<00:00, 360.53it/s]\n"
     ]
    },
    {
     "name": "stdout",
     "output_type": "stream",
     "text": [
      "Epoch [1/30], TrLoss: 0.3233, TrAcc: 88.73%, VaLoss: 0.2276, VaAcc: 91.90%\n",
      "\n",
      "Adjusting learning rate of group 0 to 1.0000e-03.\n"
     ]
    },
    {
     "name": "stderr",
     "output_type": "stream",
     "text": [
      "Training: 100%|██████████| 2542/2542 [00:24<00:00, 103.56it/s]\n",
      "Evaluation: 100%|██████████| 636/636 [00:01<00:00, 372.76it/s]\n"
     ]
    },
    {
     "name": "stdout",
     "output_type": "stream",
     "text": [
      "Epoch [2/30], TrLoss: 0.2486, TrAcc: 90.91%, VaLoss: 0.2024, VaAcc: 91.88%\n",
      "\n",
      "Adjusting learning rate of group 0 to 1.0000e-03.\n"
     ]
    },
    {
     "name": "stderr",
     "output_type": "stream",
     "text": [
      "Training: 100%|██████████| 2542/2542 [00:24<00:00, 103.09it/s]\n",
      "Evaluation: 100%|██████████| 636/636 [00:01<00:00, 372.01it/s]\n"
     ]
    },
    {
     "name": "stdout",
     "output_type": "stream",
     "text": [
      "Epoch [3/30], TrLoss: 0.2257, TrAcc: 91.33%, VaLoss: 0.2960, VaAcc: 86.90%\n",
      "\n",
      "Adjusting learning rate of group 0 to 1.0000e-03.\n"
     ]
    },
    {
     "name": "stderr",
     "output_type": "stream",
     "text": [
      "Training: 100%|██████████| 2542/2542 [00:24<00:00, 103.28it/s]\n",
      "Evaluation: 100%|██████████| 636/636 [00:01<00:00, 369.26it/s]\n"
     ]
    },
    {
     "name": "stdout",
     "output_type": "stream",
     "text": [
      "Epoch [4/30], TrLoss: 0.2159, TrAcc: 91.68%, VaLoss: 0.1923, VaAcc: 92.12%\n",
      "\n",
      "Adjusting learning rate of group 0 to 1.0000e-03.\n"
     ]
    },
    {
     "name": "stderr",
     "output_type": "stream",
     "text": [
      "Training: 100%|██████████| 2542/2542 [00:24<00:00, 103.31it/s]\n",
      "Evaluation: 100%|██████████| 636/636 [00:01<00:00, 372.22it/s]\n"
     ]
    },
    {
     "name": "stdout",
     "output_type": "stream",
     "text": [
      "Epoch [5/30], TrLoss: 0.2140, TrAcc: 91.82%, VaLoss: 0.1902, VaAcc: 92.29%\n",
      "\n",
      "Adjusting learning rate of group 0 to 8.0000e-04.\n"
     ]
    },
    {
     "name": "stderr",
     "output_type": "stream",
     "text": [
      "Training: 100%|██████████| 2542/2542 [00:24<00:00, 103.40it/s]\n",
      "Evaluation: 100%|██████████| 636/636 [00:01<00:00, 371.27it/s]\n"
     ]
    },
    {
     "name": "stdout",
     "output_type": "stream",
     "text": [
      "Epoch [6/30], TrLoss: 0.2051, TrAcc: 91.85%, VaLoss: 0.1836, VaAcc: 92.30%\n",
      "\n",
      "Adjusting learning rate of group 0 to 8.0000e-04.\n"
     ]
    },
    {
     "name": "stderr",
     "output_type": "stream",
     "text": [
      "Training: 100%|██████████| 2542/2542 [00:24<00:00, 103.35it/s]\n",
      "Evaluation: 100%|██████████| 636/636 [00:01<00:00, 365.23it/s]\n"
     ]
    },
    {
     "name": "stdout",
     "output_type": "stream",
     "text": [
      "Epoch [7/30], TrLoss: 0.2033, TrAcc: 92.13%, VaLoss: 0.1889, VaAcc: 92.12%\n",
      "\n",
      "Adjusting learning rate of group 0 to 8.0000e-04.\n"
     ]
    },
    {
     "name": "stderr",
     "output_type": "stream",
     "text": [
      "Training: 100%|██████████| 2542/2542 [00:24<00:00, 103.31it/s]\n",
      "Evaluation: 100%|██████████| 636/636 [00:01<00:00, 370.96it/s]\n"
     ]
    },
    {
     "name": "stdout",
     "output_type": "stream",
     "text": [
      "Epoch [8/30], TrLoss: 0.2035, TrAcc: 92.09%, VaLoss: 0.1813, VaAcc: 92.48%\n",
      "\n",
      "Adjusting learning rate of group 0 to 8.0000e-04.\n"
     ]
    },
    {
     "name": "stderr",
     "output_type": "stream",
     "text": [
      "Training: 100%|██████████| 2542/2542 [00:24<00:00, 103.35it/s]\n",
      "Evaluation: 100%|██████████| 636/636 [00:01<00:00, 370.76it/s]\n"
     ]
    },
    {
     "name": "stdout",
     "output_type": "stream",
     "text": [
      "Epoch [9/30], TrLoss: 0.1994, TrAcc: 92.32%, VaLoss: 0.1816, VaAcc: 92.49%\n",
      "\n",
      "Adjusting learning rate of group 0 to 8.0000e-04.\n"
     ]
    },
    {
     "name": "stderr",
     "output_type": "stream",
     "text": [
      "Training: 100%|██████████| 2542/2542 [00:24<00:00, 103.42it/s]\n",
      "Evaluation: 100%|██████████| 636/636 [00:01<00:00, 366.65it/s]\n"
     ]
    },
    {
     "name": "stdout",
     "output_type": "stream",
     "text": [
      "Epoch [10/30], TrLoss: 0.1991, TrAcc: 92.18%, VaLoss: 0.1782, VaAcc: 92.72%\n",
      "\n",
      "Adjusting learning rate of group 0 to 6.4000e-04.\n"
     ]
    },
    {
     "name": "stderr",
     "output_type": "stream",
     "text": [
      "Training: 100%|██████████| 2542/2542 [00:24<00:00, 103.28it/s]\n",
      "Evaluation: 100%|██████████| 636/636 [00:01<00:00, 369.60it/s]\n"
     ]
    },
    {
     "name": "stdout",
     "output_type": "stream",
     "text": [
      "Epoch [11/30], TrLoss: 0.2111, TrAcc: 91.81%, VaLoss: 0.1769, VaAcc: 92.63%\n",
      "\n",
      "Adjusting learning rate of group 0 to 6.4000e-04.\n"
     ]
    },
    {
     "name": "stderr",
     "output_type": "stream",
     "text": [
      "Training: 100%|██████████| 2542/2542 [00:24<00:00, 102.87it/s]\n",
      "Evaluation: 100%|██████████| 636/636 [00:01<00:00, 370.82it/s]\n"
     ]
    },
    {
     "name": "stdout",
     "output_type": "stream",
     "text": [
      "Epoch [12/30], TrLoss: 0.1928, TrAcc: 92.34%, VaLoss: 0.1767, VaAcc: 92.82%\n",
      "\n",
      "Adjusting learning rate of group 0 to 6.4000e-04.\n"
     ]
    },
    {
     "name": "stderr",
     "output_type": "stream",
     "text": [
      "Training: 100%|██████████| 2542/2542 [00:24<00:00, 102.85it/s]\n",
      "Evaluation: 100%|██████████| 636/636 [00:01<00:00, 370.74it/s]\n"
     ]
    },
    {
     "name": "stdout",
     "output_type": "stream",
     "text": [
      "Epoch [13/30], TrLoss: 0.1955, TrAcc: 92.29%, VaLoss: 0.1761, VaAcc: 92.74%\n",
      "\n",
      "Adjusting learning rate of group 0 to 6.4000e-04.\n"
     ]
    },
    {
     "name": "stderr",
     "output_type": "stream",
     "text": [
      "Training: 100%|██████████| 2542/2542 [00:24<00:00, 103.29it/s]\n",
      "Evaluation: 100%|██████████| 636/636 [00:01<00:00, 365.13it/s]\n"
     ]
    },
    {
     "name": "stdout",
     "output_type": "stream",
     "text": [
      "Epoch [14/30], TrLoss: 0.1926, TrAcc: 92.30%, VaLoss: 0.1737, VaAcc: 92.85%\n",
      "\n",
      "Adjusting learning rate of group 0 to 6.4000e-04.\n"
     ]
    },
    {
     "name": "stderr",
     "output_type": "stream",
     "text": [
      "Training: 100%|██████████| 2542/2542 [00:24<00:00, 103.40it/s]\n",
      "Evaluation: 100%|██████████| 636/636 [00:01<00:00, 369.51it/s]\n"
     ]
    },
    {
     "name": "stdout",
     "output_type": "stream",
     "text": [
      "Epoch [15/30], TrLoss: 0.1997, TrAcc: 91.96%, VaLoss: 0.1760, VaAcc: 92.68%\n",
      "\n",
      "Adjusting learning rate of group 0 to 5.1200e-04.\n"
     ]
    },
    {
     "name": "stderr",
     "output_type": "stream",
     "text": [
      "Training: 100%|██████████| 2542/2542 [00:24<00:00, 103.50it/s]\n",
      "Evaluation: 100%|██████████| 636/636 [00:01<00:00, 369.94it/s]\n"
     ]
    },
    {
     "name": "stdout",
     "output_type": "stream",
     "text": [
      "Epoch [16/30], TrLoss: 0.1904, TrAcc: 92.43%, VaLoss: 0.1742, VaAcc: 92.20%\n",
      "\n",
      "Adjusting learning rate of group 0 to 5.1200e-04.\n"
     ]
    },
    {
     "name": "stderr",
     "output_type": "stream",
     "text": [
      "Training: 100%|██████████| 2542/2542 [00:24<00:00, 103.36it/s]\n",
      "Evaluation: 100%|██████████| 636/636 [00:01<00:00, 365.37it/s]"
     ]
    },
    {
     "name": "stdout",
     "output_type": "stream",
     "text": [
      "Epoch [17/30], TrLoss: 0.1898, TrAcc: 92.37%, VaLoss: 0.1742, VaAcc: 92.79%\n",
      "\n",
      "Adjusting learning rate of group 0 to 5.1200e-04.\n",
      "Validation loss did not improve for 3 epochs. Early stopping...\n",
      "              precision    recall  f1-score   support\n",
      "\n",
      "     Healthy       0.99      0.88      0.93      5700\n",
      "  Parkinsons       0.87      0.99      0.92      4466\n",
      "\n",
      "    accuracy                           0.93     10166\n",
      "   macro avg       0.93      0.93      0.93     10166\n",
      "weighted avg       0.94      0.93      0.93     10166\n",
      "\n",
      "\n"
     ]
    },
    {
     "name": "stderr",
     "output_type": "stream",
     "text": [
      "\n"
     ]
    }
   ],
   "source": [
    "hist = defaultdict(lambda: [])\n",
    "\n",
    "sample_data, sample_mask, sample_targets = get_sample_data(indices)\n",
    "skf = StratifiedKFold(n_splits=5, shuffle=True, random_state=42)\n",
    "\n",
    "for fold_idx, (train_idx, test_idx) in enumerate(skf.split(X=np.zeros(len(sample_targets)), y=sample_targets)):\n",
    "\n",
    "    train_loader, test_loader = create_data_loaders(sample_data, sample_mask, sample_targets, train_idx, test_idx, batch_size=16)\n",
    "\n",
    "    model = ParkinsonsLSTM(input_size=sample_data.shape[-1], hidden_size=5, num_layers=1, cnn_channels=3, kernel_size=8)\n",
    "    criterion = nn.CrossEntropyLoss()\n",
    "    optimizer = optim.AdamW(model.parameters(), lr=0.001)\n",
    "    scheduler = StepLR(optimizer, step_size=5, gamma=0.8, verbose=True)\n",
    "    num_epochs = 30\n",
    "\n",
    "    best_loss, patience, threshold, counter = float('inf'), 3, 0.1, 0\n",
    "\n",
    "    for epoch in range(num_epochs):\n",
    "        train_loss, train_acc = train(model, train_loader, optimizer, criterion, 'cpu')\n",
    "        val_loss, val_acc, report, val_cm = eval(model, test_loader, criterion, 'cpu')\n",
    "\n",
    "        update_hist(hist, str(fold_idx), train_loss, train_acc, val_loss, val_acc)\n",
    "        print(f\"Epoch [{epoch+1}/{num_epochs}], TrLoss: {train_loss:.4f}, TrAcc: {train_acc:.2f}%, VaLoss: {val_loss:.4f}, VaAcc: {val_acc:.2f}%\\n\")\n",
    "        scheduler.step()\n",
    "        \n",
    "        if val_loss < best_loss and val_loss > threshold:\n",
    "            best_loss = val_loss\n",
    "            counter = 0\n",
    "        else:\n",
    "            counter += 1\n",
    "            if counter == patience:\n",
    "                print(f'Validation loss did not improve for {patience} epochs. Early stopping...')\n",
    "                break\n",
    "            if  val_loss <= threshold:\n",
    "                print(f'Validation loss crossed defined threshold {threshold}. Early stopping...')\n",
    "                break\n",
    "\n",
    "    print(report)\n",
    "    print()"
   ]
  },
  {
   "cell_type": "code",
   "execution_count": 48,
   "metadata": {},
   "outputs": [
    {
     "data": {
      "image/png": "[encoded data removed]",
      "text/plain": [
       "<Figure size 1000x300 with 2 Axes>"
      ]
     },
     "metadata": {},
     "output_type": "display_data"
    }
   ],
   "source": [
    "train_loss = hist['2_train_loss']\n",
    "val_loss = hist['2_val_loss']\n",
    "\n",
    "train_acc = hist['2_train_acc']\n",
    "val_acc = hist['2_val_acc']\n",
    "\n",
    "# set the figure size and create subplots\n",
    "fig, axs = plt.subplots(1, 2, figsize=(10, 3))\n",
    "\n",
    "# plot the train and val loss values in the first subplot\n",
    "axs[0].plot(train_loss, label='Train Loss')\n",
    "axs[0].plot(val_loss, label='Val Loss')\n",
    "axs[0].set_title('Train and Validation Loss')\n",
    "axs[0].set_xlabel('Epoch')\n",
    "axs[0].set_ylabel('Loss')\n",
    "axs[0].legend()\n",
    "\n",
    "# plot the train and val accuracy values in the second subplot\n",
    "axs[1].plot(train_acc, label='Train Accuracy')\n",
    "axs[1].plot(val_acc, label='Val Accuracy')\n",
    "axs[1].set_title('Train and Validation Accuracy')\n",
    "axs[1].set_xlabel('Epoch')\n",
    "axs[1].set_ylabel('Accuracy')\n",
    "axs[1].legend()\n",
    "\n",
    "# adjust the layout of the subplots\n",
    "plt.tight_layout()\n",
    "\n",
    "# display the plot\n",
    "plt.show()\n"
   ]
  },
  {
   "cell_type": "code",
   "execution_count": 34,
   "metadata": {},
   "outputs": [
    {
     "data": {
      "image/png": "[encoded data removed]",
      "text/plain": [
       "<Figure size 800x800 with 2 Axes>"
      ]
     },
     "metadata": {},
     "output_type": "display_data"
    },
    {
     "data": {
      "image/png": "[encoded data removed]",
      "text/plain": [
       "<Figure size 800x800 with 2 Axes>"
      ]
     },
     "metadata": {},
     "output_type": "display_data"
    },
    {
     "data": {
      "image/png": "[encoded data removed]",
      "text/plain": [
       "<Figure size 800x800 with 2 Axes>"
      ]
     },
     "metadata": {},
     "output_type": "display_data"
    },
    {
     "data": {
      "image/png": "[encoded data removed]",
      "text/plain": [
       "<Figure size 800x800 with 2 Axes>"
      ]
     },
     "metadata": {},
     "output_type": "display_data"
    },
    {
     "data": {
      "image/png": "[encoded data removed]",
      "text/plain": [
       "<Figure size 800x800 with 2 Axes>"
      ]
     },
     "metadata": {},
     "output_type": "display_data"
    }
   ],
   "source": [
    "import matplotlib.pyplot as plt\n",
    "\n",
    "# Loop through the different sets of histogram data\n",
    "for i in range(5):\n",
    "    # Get the train and validation loss and accuracy for this set\n",
    "    train_loss = hist[f'{i}_train_loss']\n",
    "    val_loss = hist[f'{i}_val_loss']\n",
    "    train_acc = hist[f'{i}_train_acc']\n",
    "    val_acc = hist[f'{i}_val_acc']\n",
    "\n",
    "    # Create two subplots for the loss and accuracy plots\n",
    "    fig, (ax1, ax2) = plt.subplots(2, 1, figsize=(8, 8))\n",
    "\n",
    "    # Plot the train and validation loss on the first subplot\n",
    "    ax1.plot(train_loss, label='Train loss')\n",
    "    ax1.plot(val_loss, label='Validation loss')\n",
    "    ax1.set_xlabel('Epoch')\n",
    "    ax1.set_ylabel('Loss')\n",
    "    ax1.legend()\n",
    "\n",
    "    # Plot the train and validation accuracy on the second subplot\n",
    "    ax2.plot(train_acc, label='Train Accuracy')\n",
    "    ax2.plot(val_acc, label='Validation Accuracy')\n",
    "    ax2.set_xlabel('Epoch')\n",
    "    ax2.set_ylabel('Accuracy')\n",
    "    ax2.legend()\n",
    "\n",
    "    # Set the title of the plot based on the current set\n",
    "    # fig.suptitle(f'Histogram Set {i}')\n",
    "\n",
    "    # Show the plots\n",
    "    plt.show()\n"
   ]
  }
 ],
 "metadata": {
  "kernelspec": {
   "display_name": "base",
   "language": "python",
   "name": "python3"
  },
  "language_info": {
   "codemirror_mode": {
    "name": "ipython",
    "version": 3
   },
   "file_extension": ".py",
   "mimetype": "text/x-python",
   "name": "python",
   "nbconvert_exporter": "python",
   "pygments_lexer": "ipython3",
   "version": "3.10.9"
  },
  "orig_nbformat": 4
 },
 "nbformat": 4,
 "nbformat_minor": 2
}
