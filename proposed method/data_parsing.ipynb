{
 "cells": [
  {
   "attachments": {},
   "cell_type": "markdown",
   "metadata": {},
   "source": [
    "parse raw files and produce a one keystroke_data.csv file with columns:\n",
    "\n",
    "['userkey', 'parkinsons', 'timestep', 'hold_time', 'latency_time',\n",
    "    'flight_time', 'tremors', 'levadopa', 'da', 'maob', 'other']\n",
    "\n",
    "to run, data and users zip files must be in the same directory (they can be downloaded from https://physionet.org/content/tappy/1.0.0/)"
   ]
  },
  {
   "cell_type": "code",
   "execution_count": 1,
   "metadata": {},
   "outputs": [],
   "source": [
    "from zipfile import ZipFile\n",
    "from sklearn.preprocessing import LabelEncoder\n",
    "import pandas as pd\n",
    "from tqdm import tqdm\n",
    "import ast\n",
    "\n",
    "tqdm.pandas()"
   ]
  },
  {
   "cell_type": "code",
   "execution_count": 2,
   "metadata": {},
   "outputs": [],
   "source": [
    "def load_keystroke_data():\n",
    "    columns = [\"userkey\", \"date\", \"timestamp\", \"hand\", \"hold_time\", \"direction\", \"latency_time\", \"flight_time\"]\n",
    "    data_df = pd.DataFrame(columns=columns)\n",
    "\n",
    "    # Load keystroke data\n",
    "    with ZipFile('Archived-Data.zip') as data:\n",
    "        print('Loading Keystroke Data...')\n",
    "        data_files_list = list(filter(lambda file_info: file_info.filename.endswith('txt'),data.infolist()))\n",
    "        data_entries = []\n",
    "        for data_file in data_files_list:\n",
    "            with data.open(data_file.filename) as datafile:\n",
    "                df = pd.read_csv(datafile, sep='\\t', header=None, dtype=str, names=columns, index_col=False, na_values=['NA'], low_memory=False, on_bad_lines='skip')\n",
    "                data_entries.append(df)\n",
    "        data_df = pd.concat(data_entries, ignore_index=True)\n",
    "\n",
    "    # Drop missing rows\n",
    "    data_df = data_df.dropna()\n",
    "\n",
    "    def is_valid_row(row):\n",
    "        if not (\n",
    "            len(str(row[\"userkey\"])) == 10\n",
    "            and len(str(row[\"date\"])) == 6\n",
    "            and (len(str(row[\"hand\"])) == 1)\n",
    "            and (len(str(row[\"direction\"])) == 2)\n",
    "            and (not str(row['hold_time']).isdigit())\n",
    "            and (len(str(row['hold_time'])) == 6)\n",
    "            and (not str(row['latency_time']).isdigit())\n",
    "            and (len(str(row['latency_time'])) == 6)\n",
    "            and (not str(row['flight_time']).isdigit())\n",
    "            and (len(str(row['flight_time'])) == 6)\n",
    "        ):\n",
    "            return False\n",
    "\n",
    "        return True\n",
    "\n",
    "    print('Cleaning Keystroke Data...')\n",
    "    # Drop corrupted rows\n",
    "    valid_rows = data_df.progress_apply(is_valid_row, axis=1)\n",
    "\n",
    "    # Keep only the valid rows\n",
    "    data_df = data_df[valid_rows]\n",
    "\n",
    "    def parse_data_df(df):\n",
    "        print('Parsing Keystroke Data...')\n",
    "        num_cols = ['hold_time', 'latency_time', 'flight_time']\n",
    "        df[num_cols] = df[num_cols].apply(pd.to_numeric, errors='coerce')\n",
    "\n",
    "        df.date = pd.to_datetime(df.date, format='%y%m%d', errors='coerce')\n",
    "        df.timestamp = pd.to_datetime(df.timestamp, format='%H:%M:%S.%f', errors='coerce').dt.time\n",
    "\n",
    "        cat_cols = ['userkey', 'hand', 'direction']\n",
    "        df[cat_cols] = df[cat_cols].astype('category')\n",
    "\n",
    "        return df\n",
    "\n",
    "    data_df = parse_data_df(data_df)\n",
    "\n",
    "    return data_df"
   ]
  },
  {
   "cell_type": "code",
   "execution_count": 3,
   "metadata": {},
   "outputs": [
    {
     "name": "stdout",
     "output_type": "stream",
     "text": [
      "Loading Keystroke Data...\n",
      "Cleaning Keystroke Data...\n"
     ]
    },
    {
     "name": "stderr",
     "output_type": "stream",
     "text": [
      "100%|██████████| 9316855/9316855 [01:40<00:00, 93026.84it/s]\n"
     ]
    },
    {
     "name": "stdout",
     "output_type": "stream",
     "text": [
      "Parsing Keystroke Data...\n"
     ]
    }
   ],
   "source": [
    "data_df = load_keystroke_data()"
   ]
  },
  {
   "cell_type": "code",
   "execution_count": 4,
   "metadata": {},
   "outputs": [
    {
     "data": {
      "text/html": [
       "<div>\n",
       "<style scoped>\n",
       "    .dataframe tbody tr th:only-of-type {\n",
       "        vertical-align: middle;\n",
       "    }\n",
       "\n",
       "    .dataframe tbody tr th {\n",
       "        vertical-align: top;\n",
       "    }\n",
       "\n",
       "    .dataframe thead th {\n",
       "        text-align: right;\n",
       "    }\n",
       "</style>\n",
       "<table border=\"1\" class=\"dataframe\">\n",
       "  <thead>\n",
       "    <tr style=\"text-align: right;\">\n",
       "      <th></th>\n",
       "      <th>userkey</th>\n",
       "      <th>date</th>\n",
       "      <th>timestamp</th>\n",
       "      <th>hand</th>\n",
       "      <th>hold_time</th>\n",
       "      <th>direction</th>\n",
       "      <th>latency_time</th>\n",
       "      <th>flight_time</th>\n",
       "    </tr>\n",
       "  </thead>\n",
       "  <tbody>\n",
       "    <tr>\n",
       "      <th>0</th>\n",
       "      <td>0EA27ICBLF</td>\n",
       "      <td>2016-07-22</td>\n",
       "      <td>18:41:04.336000</td>\n",
       "      <td>L</td>\n",
       "      <td>101.6</td>\n",
       "      <td>LL</td>\n",
       "      <td>234.4</td>\n",
       "      <td>156.3</td>\n",
       "    </tr>\n",
       "    <tr>\n",
       "      <th>1</th>\n",
       "      <td>0EA27ICBLF</td>\n",
       "      <td>2016-07-22</td>\n",
       "      <td>18:42:14.070000</td>\n",
       "      <td>L</td>\n",
       "      <td>85.9</td>\n",
       "      <td>LL</td>\n",
       "      <td>437.5</td>\n",
       "      <td>359.4</td>\n",
       "    </tr>\n",
       "    <tr>\n",
       "      <th>2</th>\n",
       "      <td>0EA27ICBLF</td>\n",
       "      <td>2016-07-22</td>\n",
       "      <td>18:42:14.273000</td>\n",
       "      <td>L</td>\n",
       "      <td>78.1</td>\n",
       "      <td>LL</td>\n",
       "      <td>210.9</td>\n",
       "      <td>125.0</td>\n",
       "    </tr>\n",
       "    <tr>\n",
       "      <th>3</th>\n",
       "      <td>0EA27ICBLF</td>\n",
       "      <td>2016-07-22</td>\n",
       "      <td>18:42:14.617000</td>\n",
       "      <td>L</td>\n",
       "      <td>62.5</td>\n",
       "      <td>LL</td>\n",
       "      <td>359.4</td>\n",
       "      <td>281.3</td>\n",
       "    </tr>\n",
       "    <tr>\n",
       "      <th>4</th>\n",
       "      <td>0EA27ICBLF</td>\n",
       "      <td>2016-07-22</td>\n",
       "      <td>18:42:15.586000</td>\n",
       "      <td>S</td>\n",
       "      <td>125.0</td>\n",
       "      <td>LS</td>\n",
       "      <td>187.5</td>\n",
       "      <td>93.8</td>\n",
       "    </tr>\n",
       "  </tbody>\n",
       "</table>\n",
       "</div>"
      ],
      "text/plain": [
       "      userkey       date        timestamp hand  hold_time direction  \\\n",
       "0  0EA27ICBLF 2016-07-22  18:41:04.336000    L      101.6        LL   \n",
       "1  0EA27ICBLF 2016-07-22  18:42:14.070000    L       85.9        LL   \n",
       "2  0EA27ICBLF 2016-07-22  18:42:14.273000    L       78.1        LL   \n",
       "3  0EA27ICBLF 2016-07-22  18:42:14.617000    L       62.5        LL   \n",
       "4  0EA27ICBLF 2016-07-22  18:42:15.586000    S      125.0        LS   \n",
       "\n",
       "   latency_time  flight_time  \n",
       "0         234.4        156.3  \n",
       "1         437.5        359.4  \n",
       "2         210.9        125.0  \n",
       "3         359.4        281.3  \n",
       "4         187.5         93.8  "
      ]
     },
     "execution_count": 4,
     "metadata": {},
     "output_type": "execute_result"
    }
   ],
   "source": [
    "data_df.head()"
   ]
  },
  {
   "cell_type": "code",
   "execution_count": 5,
   "metadata": {},
   "outputs": [],
   "source": [
    "def load_users_data():\n",
    "    users_fp = 'Archived-users.zip'\n",
    "    with ZipFile(users_fp) as users:\n",
    "        print('Loading Users Data...')\n",
    "        users_files_list = list(filter(lambda file_info: file_info.filename.endswith('txt'),users.infolist()))\n",
    "        user_entries = []\n",
    "        for user_file in users_files_list:\n",
    "            with users.open(user_file) as uf:\n",
    "                user_data = uf.read().decode(\"utf-8\").strip().split(\"\\n\")\n",
    "                user_entry = {'UserKey': uf.name.split('/')[1].split('_')[1].split('.')[0]}\n",
    "                user_entry.update({line[0]: line[1].strip() for line in [line.split(\":\") for line in user_data]})\n",
    "                user_entries.append(user_entry)\n",
    "        users_df = pd.DataFrame(user_entries)\n",
    "        users_df.columns = users_df.columns.str.lower()\n",
    "\n",
    "    def parse_users_df(df):\n",
    "        print('Parsing Users Data...')\n",
    "        num_cols = ['birthyear', 'diagnosisyear', 'updrs']\n",
    "        df[num_cols] = df[num_cols].apply(pd.to_numeric, errors='coerce')\n",
    "\n",
    "        bool_cols = ['parkinsons', 'tremors', 'levadopa', 'da', 'maob', 'other']\n",
    "        df[bool_cols] = df[bool_cols].applymap(lambda x: ast.literal_eval(x) if isinstance(x, str) else x)\n",
    "\n",
    "        df.impact = df.impact.replace('------', None) \n",
    "        cat_cols = ['userkey', 'gender', 'impact', 'sided']\n",
    "        df[cat_cols] = df[cat_cols].astype('category')\n",
    "\n",
    "        return df\n",
    "    \n",
    "    users_df = parse_users_df(users_df)\n",
    "\n",
    "    return users_df"
   ]
  },
  {
   "cell_type": "code",
   "execution_count": 6,
   "metadata": {},
   "outputs": [
    {
     "name": "stdout",
     "output_type": "stream",
     "text": [
      "Loading Users Data...\n",
      "Parsing Users Data...\n"
     ]
    }
   ],
   "source": [
    "users_df = load_users_data()"
   ]
  },
  {
   "cell_type": "code",
   "execution_count": 7,
   "metadata": {},
   "outputs": [
    {
     "data": {
      "text/html": [
       "<div>\n",
       "<style scoped>\n",
       "    .dataframe tbody tr th:only-of-type {\n",
       "        vertical-align: middle;\n",
       "    }\n",
       "\n",
       "    .dataframe tbody tr th {\n",
       "        vertical-align: top;\n",
       "    }\n",
       "\n",
       "    .dataframe thead th {\n",
       "        text-align: right;\n",
       "    }\n",
       "</style>\n",
       "<table border=\"1\" class=\"dataframe\">\n",
       "  <thead>\n",
       "    <tr style=\"text-align: right;\">\n",
       "      <th></th>\n",
       "      <th>userkey</th>\n",
       "      <th>birthyear</th>\n",
       "      <th>gender</th>\n",
       "      <th>parkinsons</th>\n",
       "      <th>tremors</th>\n",
       "      <th>diagnosisyear</th>\n",
       "      <th>sided</th>\n",
       "      <th>updrs</th>\n",
       "      <th>impact</th>\n",
       "      <th>levadopa</th>\n",
       "      <th>da</th>\n",
       "      <th>maob</th>\n",
       "      <th>other</th>\n",
       "    </tr>\n",
       "  </thead>\n",
       "  <tbody>\n",
       "    <tr>\n",
       "      <th>0</th>\n",
       "      <td>0EA27ICBLF</td>\n",
       "      <td>1952.0</td>\n",
       "      <td>Female</td>\n",
       "      <td>True</td>\n",
       "      <td>True</td>\n",
       "      <td>2000.0</td>\n",
       "      <td>Left</td>\n",
       "      <td>NaN</td>\n",
       "      <td>Severe</td>\n",
       "      <td>True</td>\n",
       "      <td>True</td>\n",
       "      <td>False</td>\n",
       "      <td>False</td>\n",
       "    </tr>\n",
       "    <tr>\n",
       "      <th>1</th>\n",
       "      <td>0QAZFRHQHW</td>\n",
       "      <td>1959.0</td>\n",
       "      <td>Female</td>\n",
       "      <td>False</td>\n",
       "      <td>False</td>\n",
       "      <td>NaN</td>\n",
       "      <td>None</td>\n",
       "      <td>NaN</td>\n",
       "      <td>NaN</td>\n",
       "      <td>False</td>\n",
       "      <td>False</td>\n",
       "      <td>False</td>\n",
       "      <td>False</td>\n",
       "    </tr>\n",
       "    <tr>\n",
       "      <th>2</th>\n",
       "      <td>0WTDIGPSBZ</td>\n",
       "      <td>1946.0</td>\n",
       "      <td>Female</td>\n",
       "      <td>False</td>\n",
       "      <td>False</td>\n",
       "      <td>NaN</td>\n",
       "      <td>None</td>\n",
       "      <td>NaN</td>\n",
       "      <td>NaN</td>\n",
       "      <td>False</td>\n",
       "      <td>False</td>\n",
       "      <td>False</td>\n",
       "      <td>False</td>\n",
       "    </tr>\n",
       "    <tr>\n",
       "      <th>3</th>\n",
       "      <td>1HOEBIGASW</td>\n",
       "      <td>1944.0</td>\n",
       "      <td>Male</td>\n",
       "      <td>False</td>\n",
       "      <td>False</td>\n",
       "      <td>NaN</td>\n",
       "      <td>None</td>\n",
       "      <td>NaN</td>\n",
       "      <td>NaN</td>\n",
       "      <td>False</td>\n",
       "      <td>False</td>\n",
       "      <td>False</td>\n",
       "      <td>False</td>\n",
       "    </tr>\n",
       "    <tr>\n",
       "      <th>4</th>\n",
       "      <td>1WMVCCU4RH</td>\n",
       "      <td>1953.0</td>\n",
       "      <td>Male</td>\n",
       "      <td>True</td>\n",
       "      <td>True</td>\n",
       "      <td>2017.0</td>\n",
       "      <td>Left</td>\n",
       "      <td>NaN</td>\n",
       "      <td>Medium</td>\n",
       "      <td>False</td>\n",
       "      <td>False</td>\n",
       "      <td>False</td>\n",
       "      <td>False</td>\n",
       "    </tr>\n",
       "  </tbody>\n",
       "</table>\n",
       "</div>"
      ],
      "text/plain": [
       "      userkey  birthyear  gender  parkinsons  tremors  diagnosisyear sided  \\\n",
       "0  0EA27ICBLF     1952.0  Female        True     True         2000.0  Left   \n",
       "1  0QAZFRHQHW     1959.0  Female       False    False            NaN  None   \n",
       "2  0WTDIGPSBZ     1946.0  Female       False    False            NaN  None   \n",
       "3  1HOEBIGASW     1944.0    Male       False    False            NaN  None   \n",
       "4  1WMVCCU4RH     1953.0    Male        True     True         2017.0  Left   \n",
       "\n",
       "   updrs  impact  levadopa     da   maob  other  \n",
       "0    NaN  Severe      True   True  False  False  \n",
       "1    NaN     NaN     False  False  False  False  \n",
       "2    NaN     NaN     False  False  False  False  \n",
       "3    NaN     NaN     False  False  False  False  \n",
       "4    NaN  Medium     False  False  False  False  "
      ]
     },
     "execution_count": 7,
     "metadata": {},
     "output_type": "execute_result"
    }
   ],
   "source": [
    "users_df.head()"
   ]
  },
  {
   "attachments": {},
   "cell_type": "markdown",
   "metadata": {},
   "source": [
    "merging keystrokes with users data and encoding the userkey and gender columns"
   ]
  },
  {
   "cell_type": "code",
   "execution_count": 8,
   "metadata": {},
   "outputs": [],
   "source": [
    "df = data_df.merge(users_df, on='userkey')\n",
    "df.columns = [col.lower().replace(' ', '_') for col in df.columns]\n",
    "df['timestep'] = df.groupby('userkey').timestamp.cumcount()\n",
    "\n",
    "le = LabelEncoder()\n",
    "df['userkey'] = le.fit_transform(df['userkey'])\n",
    "ge = LabelEncoder()\n",
    "df['gender'] = ge.fit_transform(df['gender'])"
   ]
  },
  {
   "attachments": {},
   "cell_type": "markdown",
   "metadata": {},
   "source": [
    "creating a feature \"on_meds\" if any of parkinsons medication is taken by a participant"
   ]
  },
  {
   "cell_type": "code",
   "execution_count": 9,
   "metadata": {},
   "outputs": [],
   "source": [
    "df['on_meds'] = df[['levadopa', 'da', 'maob', 'other']].any(axis=1)"
   ]
  },
  {
   "attachments": {},
   "cell_type": "markdown",
   "metadata": {},
   "source": [
    "removing outliers and minmax scaling"
   ]
  },
  {
   "cell_type": "code",
   "execution_count": 13,
   "metadata": {},
   "outputs": [
    {
     "name": "stderr",
     "output_type": "stream",
     "text": [
      "100%|██████████| 217/217 [00:03<00:00, 68.29it/s] \n"
     ]
    }
   ],
   "source": [
    "from sklearn.preprocessing import MinMaxScaler\n",
    "import numpy as np\n",
    "\n",
    "main_columns = ['hold_time', 'latency_time', 'flight_time']\n",
    "def remove_outliers(group):\n",
    "    for col in main_columns:\n",
    "        q1 = group[col].quantile(0.25)\n",
    "        q3 = group[col].quantile(0.75)\n",
    "        iqr = q3 - q1\n",
    "        upper_bound = q3 + 1.5 * iqr\n",
    "        lower_bound = q1 - 1.5 * iqr\n",
    "        group[col] = np.where(group[col] > upper_bound, np.nan, group[col])\n",
    "        group[col] = np.where(group[col] < lower_bound, np.nan, group[col])\n",
    "\n",
    "    return group\n",
    "\n",
    "df = df.groupby('userkey', group_keys=True).progress_apply(remove_outliers).reset_index(drop=True)\n",
    "\n",
    "scaler = MinMaxScaler()\n",
    "df.loc[:, main_columns] = scaler.fit_transform(df[main_columns])"
   ]
  },
  {
   "attachments": {},
   "cell_type": "markdown",
   "metadata": {},
   "source": [
    "saving dataframe as csv and keeping relevant columns only"
   ]
  },
  {
   "cell_type": "code",
   "execution_count": 54,
   "metadata": {},
   "outputs": [],
   "source": [
    "kept_columns = ['userkey', 'parkinsons', 'timestep', 'hand','direction', 'impact', 'hold_time', 'latency_time', 'flight_time', 'tremors', 'on_meds']\n",
    "df[kept_columns].to_csv('keystroke_data.csv', index=False)"
   ]
  },
  {
   "cell_type": "code",
   "execution_count": 53,
   "metadata": {},
   "outputs": [
    {
     "data": {
      "text/html": [
       "<div>\n",
       "<style scoped>\n",
       "    .dataframe tbody tr th:only-of-type {\n",
       "        vertical-align: middle;\n",
       "    }\n",
       "\n",
       "    .dataframe tbody tr th {\n",
       "        vertical-align: top;\n",
       "    }\n",
       "\n",
       "    .dataframe thead th {\n",
       "        text-align: right;\n",
       "    }\n",
       "</style>\n",
       "<table border=\"1\" class=\"dataframe\">\n",
       "  <thead>\n",
       "    <tr style=\"text-align: right;\">\n",
       "      <th></th>\n",
       "      <th>userkey</th>\n",
       "      <th>parkinsons</th>\n",
       "      <th>timestep</th>\n",
       "      <th>hand</th>\n",
       "      <th>direction</th>\n",
       "      <th>impact</th>\n",
       "      <th>hold_time</th>\n",
       "      <th>latency_time</th>\n",
       "      <th>flight_time</th>\n",
       "      <th>tremors</th>\n",
       "      <th>on_meds</th>\n",
       "    </tr>\n",
       "  </thead>\n",
       "  <tbody>\n",
       "    <tr>\n",
       "      <th>0</th>\n",
       "      <td>0</td>\n",
       "      <td>True</td>\n",
       "      <td>0</td>\n",
       "      <td>L</td>\n",
       "      <td>LL</td>\n",
       "      <td>Severe</td>\n",
       "      <td>0.206420</td>\n",
       "      <td>0.292152</td>\n",
       "      <td>0.194660</td>\n",
       "      <td>True</td>\n",
       "      <td>True</td>\n",
       "    </tr>\n",
       "    <tr>\n",
       "      <th>1</th>\n",
       "      <td>0</td>\n",
       "      <td>True</td>\n",
       "      <td>1</td>\n",
       "      <td>L</td>\n",
       "      <td>LL</td>\n",
       "      <td>Severe</td>\n",
       "      <td>0.174523</td>\n",
       "      <td>0.546376</td>\n",
       "      <td>0.449235</td>\n",
       "      <td>True</td>\n",
       "      <td>True</td>\n",
       "    </tr>\n",
       "    <tr>\n",
       "      <th>2</th>\n",
       "      <td>0</td>\n",
       "      <td>True</td>\n",
       "      <td>2</td>\n",
       "      <td>L</td>\n",
       "      <td>LL</td>\n",
       "      <td>Severe</td>\n",
       "      <td>0.158675</td>\n",
       "      <td>0.262736</td>\n",
       "      <td>0.155427</td>\n",
       "      <td>True</td>\n",
       "      <td>True</td>\n",
       "    </tr>\n",
       "    <tr>\n",
       "      <th>3</th>\n",
       "      <td>0</td>\n",
       "      <td>True</td>\n",
       "      <td>3</td>\n",
       "      <td>L</td>\n",
       "      <td>LL</td>\n",
       "      <td>Severe</td>\n",
       "      <td>0.126981</td>\n",
       "      <td>0.448617</td>\n",
       "      <td>0.351341</td>\n",
       "      <td>True</td>\n",
       "      <td>True</td>\n",
       "    </tr>\n",
       "    <tr>\n",
       "      <th>4</th>\n",
       "      <td>0</td>\n",
       "      <td>True</td>\n",
       "      <td>4</td>\n",
       "      <td>S</td>\n",
       "      <td>LS</td>\n",
       "      <td>Severe</td>\n",
       "      <td>0.253962</td>\n",
       "      <td>0.233446</td>\n",
       "      <td>0.116320</td>\n",
       "      <td>True</td>\n",
       "      <td>True</td>\n",
       "    </tr>\n",
       "  </tbody>\n",
       "</table>\n",
       "</div>"
      ],
      "text/plain": [
       "   userkey  parkinsons  timestep hand direction  impact  hold_time  \\\n",
       "0        0        True         0    L        LL  Severe   0.206420   \n",
       "1        0        True         1    L        LL  Severe   0.174523   \n",
       "2        0        True         2    L        LL  Severe   0.158675   \n",
       "3        0        True         3    L        LL  Severe   0.126981   \n",
       "4        0        True         4    S        LS  Severe   0.253962   \n",
       "\n",
       "   latency_time  flight_time  tremors  on_meds  \n",
       "0      0.292152     0.194660     True     True  \n",
       "1      0.546376     0.449235     True     True  \n",
       "2      0.262736     0.155427     True     True  \n",
       "3      0.448617     0.351341     True     True  \n",
       "4      0.233446     0.116320     True     True  "
      ]
     },
     "execution_count": 53,
     "metadata": {},
     "output_type": "execute_result"
    }
   ],
   "source": [
    "df[kept_columns].head()"
   ]
  },
  {
   "cell_type": "code",
   "execution_count": 47,
   "metadata": {},
   "outputs": [
    {
     "data": {
      "text/plain": [
       "parkinsons\n",
       "False     58\n",
       "True     169\n",
       "Name: userkey, dtype: int64"
      ]
     },
     "execution_count": 47,
     "metadata": {},
     "output_type": "execute_result"
    }
   ],
   "source": [
    "users_df.groupby('parkinsons').userkey.nunique()"
   ]
  }
 ],
 "metadata": {
  "kernelspec": {
   "display_name": "base",
   "language": "python",
   "name": "python3"
  },
  "language_info": {
   "codemirror_mode": {
    "name": "ipython",
    "version": 3
   },
   "file_extension": ".py",
   "mimetype": "text/x-python",
   "name": "python",
   "nbconvert_exporter": "python",
   "pygments_lexer": "ipython3",
   "version": "3.10.9"
  },
  "orig_nbformat": 4
 },
 "nbformat": 4,
 "nbformat_minor": 2
}
